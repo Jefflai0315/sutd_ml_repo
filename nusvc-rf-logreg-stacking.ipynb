{
 "cells": [
  {
   "cell_type": "code",
   "execution_count": 1,
   "metadata": {},
   "outputs": [],
   "source": [
    "import pandas as pd\n",
    "import numpy as np\n",
    "import seaborn as sns\n",
    "import matplotlib.pyplot as plt\n",
    "from sklearn.svm import NuSVC, SVC\n",
    "from sklearn import model_selection\n",
    "from sklearn.model_selection import train_test_split, GridSearchCV\n",
    "from sklearn.preprocessing import StandardScaler\n",
    "from sklearn.pipeline import Pipeline\n",
    "from sklearn import metrics\n",
    "\n",
    "from sklearn.svm import NuSVC, SVC\n",
    "from sklearn.neural_network import MLPClassifier\n",
    "from sklearn.ensemble import RandomForestClassifier\n",
    "from mlxtend.classifier import StackingCVClassifier # <- Here is our boy\n"
   ]
  },
  {
   "cell_type": "code",
   "execution_count": 3,
   "metadata": {},
   "outputs": [],
   "source": [
    "# 0. load our PCA 4200 data_set\n",
    "data_train = pd.read_csv('PCA_X_train_4200.csv')\n",
    "X = data_train.drop(['id', 'label'], axis=1)\n",
    "y = data_train['label']"
   ]
  },
  {
   "cell_type": "code",
   "execution_count": 4,
   "metadata": {},
   "outputs": [],
   "source": [
    "data_test = pd.read_csv('PCA_X_test_4200.csv')\n",
    "X_test = data_test.drop(['id'], axis=1)\n"
   ]
  },
  {
   "cell_type": "code",
   "execution_count": 8,
   "metadata": {},
   "outputs": [],
   "source": [
    "# 1. create a Log_reg class \n",
    "from sklearn.base import BaseEstimator, RegressorMixin\n",
    "from sklearn.utils.validation import check_X_y, check_array, check_is_fitted\n",
    "\n",
    "class Log_Reg(BaseEstimator, RegressorMixin):\n",
    "    def __init__(self,bs=5,epochs=100,lr=0.01):\n",
    "        self.bs = bs\n",
    "        self.epochs = epochs\n",
    "        self.lr = lr\n",
    "        self.w = 0\n",
    "        self.b = 0\n",
    "        self.losses = []\n",
    "\n",
    "    #sigmoid function \n",
    "    def sigmoid(self,z):\n",
    "        return 1.0/(1 + np.exp(-z))\n",
    "\n",
    "    #loss function\n",
    "    def loss(self,y, y_hat):\n",
    "        loss = -np.mean(y*(np.log(y_hat)) - (1-y)*np.log(1-y_hat))\n",
    "        return loss\n",
    "\n",
    "\n",
    "    #gradient descent \n",
    "    def gradients(self,X, y, y_hat):\n",
    "        m = X.shape[0]\n",
    "        dw = (1/m)*np.dot(X.T, (y_hat - y))\n",
    "        db = (1/m)*np.sum((y_hat - y)) \n",
    "        return dw, db\n",
    "\n",
    "    def fit(self,X, y):\n",
    "       \n",
    "        if type(X) != np.array:\n",
    "            X = np.array(X)\n",
    "        if type(y) != np.array:\n",
    "            y = np.array(y)\n",
    "        \n",
    "        X, y = check_X_y(X, y)\n",
    "        m, n = X.shape\n",
    "    \n",
    "    # Initializing weights and bias to zeros.\n",
    "        w = np.zeros((n,1))\n",
    "        b = 0\n",
    "        y = y.reshape(m,1)\n",
    "        losses = []\n",
    "        for epoch in range(self.epochs):\n",
    "            for i in range((m-1)//self.bs + 1):\n",
    "                \n",
    "                # random batch of size bs.\n",
    "                index = np.random.randint(0,(m-1)//self.bs + 1)\n",
    "                # Defining batches. SGD.\n",
    "                start_i = index*self.bs\n",
    "                end_i = start_i + self.bs\n",
    "                xb = X[start_i:end_i]\n",
    "                yb = y[start_i:end_i]\n",
    "                \n",
    "                # Calculating hypothesis/prediction.\n",
    "                y_hat = self.sigmoid(np.dot(xb, w) + b)\n",
    "                \n",
    "                # Getting the gradients of loss w.r.t parameters.\n",
    "                dw, db = self.gradients(xb, yb, y_hat)\n",
    "                \n",
    "                # Updating the parameters.\n",
    "                w -= self.lr*dw\n",
    "                b -= self.lr*db\n",
    "            \n",
    "            # Calculating loss and appending it in the list.\n",
    "            l = self.loss(y, self.sigmoid(np.dot(X, w) + b))\n",
    "            losses.append(l)\n",
    "            \n",
    "        # returning weights, bias and losses(List).\n",
    "        self.w = w\n",
    "        self.b = b\n",
    "        self.losses.append(losses)\n",
    "        return w, b, losses\n",
    "\n",
    "    #predict function \n",
    "    def predict(self,X):\n",
    "        if type(X) != np.array:\n",
    "            X = np.array(X)\n",
    "        preds = self.sigmoid(np.dot(X, self.w) + self.b)\n",
    "       \n",
    "        pred_class = []\n",
    "        pred_class = [1 if i > 0.5 else 0 for i in preds]\n",
    "        return np.array(pred_class)\n",
    "        "
   ]
  },
  {
   "cell_type": "code",
   "execution_count": 4,
   "metadata": {},
   "outputs": [],
   "source": [
    "# 2. Create train and test set                         #\n",
    "X_train, X_test, y_train, y_test = train_test_split(X, y, test_size = 0.20,\n",
    "                                                    random_state = 42)"
   ]
  },
  {
   "cell_type": "code",
   "execution_count": 14,
   "metadata": {},
   "outputs": [
    {
     "name": "stdout",
     "output_type": "stream",
     "text": [
      "Fitting 5 folds for each of 18 candidates, totalling 90 fits\n",
      "[CV 1/5] END .....C=0.1, gamma=1, kernel=linear;, score=0.664 total time= 4.9min\n",
      "[CV 2/5] END .....C=0.1, gamma=1, kernel=linear;, score=0.657 total time= 4.5min\n",
      "[CV 3/5] END .....C=0.1, gamma=1, kernel=linear;, score=0.655 total time= 4.3min\n",
      "[CV 4/5] END .....C=0.1, gamma=1, kernel=linear;, score=0.653 total time= 4.3min\n",
      "[CV 5/5] END .....C=0.1, gamma=1, kernel=linear;, score=0.658 total time= 4.3min\n",
      "[CV 1/5] END ....C=0.1, gamma=1, kernel=sigmoid;, score=0.663 total time= 4.2min\n",
      "[CV 2/5] END ....C=0.1, gamma=1, kernel=sigmoid;, score=0.655 total time= 4.3min\n",
      "[CV 3/5] END ....C=0.1, gamma=1, kernel=sigmoid;, score=0.654 total time= 4.3min\n",
      "[CV 4/5] END ....C=0.1, gamma=1, kernel=sigmoid;, score=0.653 total time= 4.3min\n",
      "[CV 5/5] END ....C=0.1, gamma=1, kernel=sigmoid;, score=0.656 total time= 4.2min\n",
      "[CV 1/5] END ...C=0.1, gamma=0.1, kernel=linear;, score=0.664 total time= 4.2min\n",
      "[CV 2/5] END ...C=0.1, gamma=0.1, kernel=linear;, score=0.657 total time= 4.2min\n",
      "[CV 3/5] END ...C=0.1, gamma=0.1, kernel=linear;, score=0.655 total time= 4.1min\n",
      "[CV 4/5] END ...C=0.1, gamma=0.1, kernel=linear;, score=0.653 total time= 4.1min\n",
      "[CV 5/5] END ...C=0.1, gamma=0.1, kernel=linear;, score=0.658 total time= 4.1min\n",
      "[CV 1/5] END ..C=0.1, gamma=0.1, kernel=sigmoid;, score=0.618 total time= 4.2min\n",
      "[CV 2/5] END ..C=0.1, gamma=0.1, kernel=sigmoid;, score=0.617 total time= 4.1min\n",
      "[CV 3/5] END ..C=0.1, gamma=0.1, kernel=sigmoid;, score=0.618 total time= 4.1min\n",
      "[CV 4/5] END ..C=0.1, gamma=0.1, kernel=sigmoid;, score=0.618 total time= 4.2min\n",
      "[CV 5/5] END ..C=0.1, gamma=0.1, kernel=sigmoid;, score=0.618 total time= 4.0min\n",
      "[CV 1/5] END ..C=0.1, gamma=0.01, kernel=linear;, score=0.664 total time= 4.3min\n",
      "[CV 2/5] END ..C=0.1, gamma=0.01, kernel=linear;, score=0.657 total time= 4.1min\n",
      "[CV 3/5] END ..C=0.1, gamma=0.01, kernel=linear;, score=0.655 total time= 4.2min\n",
      "[CV 4/5] END ..C=0.1, gamma=0.01, kernel=linear;, score=0.653 total time= 4.2min\n",
      "[CV 5/5] END ..C=0.1, gamma=0.01, kernel=linear;, score=0.658 total time= 4.2min\n",
      "[CV 1/5] END .C=0.1, gamma=0.01, kernel=sigmoid;, score=0.618 total time= 3.9min\n",
      "[CV 2/5] END .C=0.1, gamma=0.01, kernel=sigmoid;, score=0.617 total time= 4.0min\n",
      "[CV 3/5] END .C=0.1, gamma=0.01, kernel=sigmoid;, score=0.618 total time= 3.9min\n",
      "[CV 4/5] END .C=0.1, gamma=0.01, kernel=sigmoid;, score=0.618 total time= 3.9min\n",
      "[CV 5/5] END .C=0.1, gamma=0.01, kernel=sigmoid;, score=0.618 total time= 3.9min\n",
      "[CV 1/5] END .......C=1, gamma=1, kernel=linear;, score=0.725 total time= 4.0min\n",
      "[CV 2/5] END .......C=1, gamma=1, kernel=linear;, score=0.725 total time= 3.9min\n",
      "[CV 3/5] END .......C=1, gamma=1, kernel=linear;, score=0.701 total time= 3.9min\n",
      "[CV 4/5] END .......C=1, gamma=1, kernel=linear;, score=0.730 total time= 3.9min\n",
      "[CV 5/5] END .......C=1, gamma=1, kernel=linear;, score=0.725 total time= 4.3min\n",
      "[CV 1/5] END ......C=1, gamma=1, kernel=sigmoid;, score=0.722 total time= 4.0min\n",
      "[CV 2/5] END ......C=1, gamma=1, kernel=sigmoid;, score=0.724 total time= 4.0min\n",
      "[CV 3/5] END ......C=1, gamma=1, kernel=sigmoid;, score=0.697 total time= 4.0min\n",
      "[CV 4/5] END ......C=1, gamma=1, kernel=sigmoid;, score=0.728 total time= 4.0min\n",
      "[CV 5/5] END ......C=1, gamma=1, kernel=sigmoid;, score=0.716 total time= 4.2min\n",
      "[CV 1/5] END .....C=1, gamma=0.1, kernel=linear;, score=0.725 total time= 4.2min\n",
      "[CV 2/5] END .....C=1, gamma=0.1, kernel=linear;, score=0.725 total time= 3.5min\n",
      "[CV 3/5] END .....C=1, gamma=0.1, kernel=linear;, score=0.701 total time= 3.3min\n",
      "[CV 4/5] END .....C=1, gamma=0.1, kernel=linear;, score=0.730 total time= 3.4min\n",
      "[CV 5/5] END .....C=1, gamma=0.1, kernel=linear;, score=0.725 total time= 3.3min\n",
      "[CV 1/5] END ....C=1, gamma=0.1, kernel=sigmoid;, score=0.664 total time= 3.8min\n",
      "[CV 2/5] END ....C=1, gamma=0.1, kernel=sigmoid;, score=0.657 total time= 3.7min\n",
      "[CV 3/5] END ....C=1, gamma=0.1, kernel=sigmoid;, score=0.655 total time= 3.5min\n",
      "[CV 4/5] END ....C=1, gamma=0.1, kernel=sigmoid;, score=0.653 total time= 3.9min\n",
      "[CV 5/5] END ....C=1, gamma=0.1, kernel=sigmoid;, score=0.658 total time= 4.1min\n",
      "[CV 1/5] END ....C=1, gamma=0.01, kernel=linear;, score=0.725 total time= 3.4min\n",
      "[CV 2/5] END ....C=1, gamma=0.01, kernel=linear;, score=0.725 total time= 3.7min\n",
      "[CV 3/5] END ....C=1, gamma=0.01, kernel=linear;, score=0.701 total time= 3.2min\n",
      "[CV 4/5] END ....C=1, gamma=0.01, kernel=linear;, score=0.730 total time= 3.2min\n",
      "[CV 5/5] END ....C=1, gamma=0.01, kernel=linear;, score=0.725 total time= 3.2min\n",
      "[CV 1/5] END ...C=1, gamma=0.01, kernel=sigmoid;, score=0.618 total time= 3.5min\n",
      "[CV 2/5] END ...C=1, gamma=0.01, kernel=sigmoid;, score=0.617 total time=36.5min\n",
      "[CV 3/5] END ...C=1, gamma=0.01, kernel=sigmoid;, score=0.618 total time= 3.5min\n",
      "[CV 4/5] END ...C=1, gamma=0.01, kernel=sigmoid;, score=0.618 total time= 3.4min\n",
      "[CV 5/5] END ...C=1, gamma=0.01, kernel=sigmoid;, score=0.618 total time= 3.5min\n",
      "[CV 1/5] END ......C=10, gamma=1, kernel=linear;, score=0.684 total time= 3.7min\n",
      "[CV 2/5] END ......C=10, gamma=1, kernel=linear;, score=0.692 total time= 3.7min\n",
      "[CV 3/5] END ......C=10, gamma=1, kernel=linear;, score=0.678 total time= 3.4min\n",
      "[CV 4/5] END ......C=10, gamma=1, kernel=linear;, score=0.692 total time= 3.5min\n",
      "[CV 5/5] END ......C=10, gamma=1, kernel=linear;, score=0.689 total time= 3.5min\n",
      "[CV 1/5] END .....C=10, gamma=1, kernel=sigmoid;, score=0.673 total time= 2.6min\n",
      "[CV 2/5] END .....C=10, gamma=1, kernel=sigmoid;, score=0.685 total time= 2.6min\n",
      "[CV 3/5] END .....C=10, gamma=1, kernel=sigmoid;, score=0.660 total time= 2.7min\n",
      "[CV 4/5] END .....C=10, gamma=1, kernel=sigmoid;, score=0.678 total time= 2.7min\n",
      "[CV 5/5] END .....C=10, gamma=1, kernel=sigmoid;, score=0.672 total time= 2.7min\n",
      "[CV 1/5] END ....C=10, gamma=0.1, kernel=linear;, score=0.684 total time= 3.7min\n",
      "[CV 2/5] END ....C=10, gamma=0.1, kernel=linear;, score=0.692 total time= 3.9min\n",
      "[CV 3/5] END ....C=10, gamma=0.1, kernel=linear;, score=0.678 total time= 3.8min\n",
      "[CV 4/5] END ....C=10, gamma=0.1, kernel=linear;, score=0.692 total time= 3.8min\n",
      "[CV 5/5] END ....C=10, gamma=0.1, kernel=linear;, score=0.689 total time= 4.0min\n",
      "[CV 1/5] END ...C=10, gamma=0.1, kernel=sigmoid;, score=0.725 total time= 3.7min\n",
      "[CV 2/5] END ...C=10, gamma=0.1, kernel=sigmoid;, score=0.725 total time= 3.6min\n",
      "[CV 3/5] END ...C=10, gamma=0.1, kernel=sigmoid;, score=0.701 total time= 3.6min\n",
      "[CV 4/5] END ...C=10, gamma=0.1, kernel=sigmoid;, score=0.730 total time= 3.3min\n",
      "[CV 5/5] END ...C=10, gamma=0.1, kernel=sigmoid;, score=0.725 total time= 3.2min\n",
      "[CV 1/5] END ...C=10, gamma=0.01, kernel=linear;, score=0.684 total time= 3.5min\n",
      "[CV 2/5] END ...C=10, gamma=0.01, kernel=linear;, score=0.692 total time= 3.6min\n",
      "[CV 3/5] END ...C=10, gamma=0.01, kernel=linear;, score=0.678 total time= 3.5min\n",
      "[CV 4/5] END ...C=10, gamma=0.01, kernel=linear;, score=0.692 total time= 3.6min\n",
      "[CV 5/5] END ...C=10, gamma=0.01, kernel=linear;, score=0.689 total time= 3.6min\n",
      "[CV 1/5] END ..C=10, gamma=0.01, kernel=sigmoid;, score=0.664 total time= 3.5min\n",
      "[CV 2/5] END ..C=10, gamma=0.01, kernel=sigmoid;, score=0.657 total time= 3.5min\n",
      "[CV 3/5] END ..C=10, gamma=0.01, kernel=sigmoid;, score=0.655 total time= 3.6min\n",
      "[CV 4/5] END ..C=10, gamma=0.01, kernel=sigmoid;, score=0.653 total time= 4.1min\n",
      "[CV 5/5] END ..C=10, gamma=0.01, kernel=sigmoid;, score=0.658 total time= 3.9min\n"
     ]
    },
    {
     "data": {
      "text/html": [
       "<style>#sk-container-id-1 {color: black;background-color: white;}#sk-container-id-1 pre{padding: 0;}#sk-container-id-1 div.sk-toggleable {background-color: white;}#sk-container-id-1 label.sk-toggleable__label {cursor: pointer;display: block;width: 100%;margin-bottom: 0;padding: 0.3em;box-sizing: border-box;text-align: center;}#sk-container-id-1 label.sk-toggleable__label-arrow:before {content: \"▸\";float: left;margin-right: 0.25em;color: #696969;}#sk-container-id-1 label.sk-toggleable__label-arrow:hover:before {color: black;}#sk-container-id-1 div.sk-estimator:hover label.sk-toggleable__label-arrow:before {color: black;}#sk-container-id-1 div.sk-toggleable__content {max-height: 0;max-width: 0;overflow: hidden;text-align: left;background-color: #f0f8ff;}#sk-container-id-1 div.sk-toggleable__content pre {margin: 0.2em;color: black;border-radius: 0.25em;background-color: #f0f8ff;}#sk-container-id-1 input.sk-toggleable__control:checked~div.sk-toggleable__content {max-height: 200px;max-width: 100%;overflow: auto;}#sk-container-id-1 input.sk-toggleable__control:checked~label.sk-toggleable__label-arrow:before {content: \"▾\";}#sk-container-id-1 div.sk-estimator input.sk-toggleable__control:checked~label.sk-toggleable__label {background-color: #d4ebff;}#sk-container-id-1 div.sk-label input.sk-toggleable__control:checked~label.sk-toggleable__label {background-color: #d4ebff;}#sk-container-id-1 input.sk-hidden--visually {border: 0;clip: rect(1px 1px 1px 1px);clip: rect(1px, 1px, 1px, 1px);height: 1px;margin: -1px;overflow: hidden;padding: 0;position: absolute;width: 1px;}#sk-container-id-1 div.sk-estimator {font-family: monospace;background-color: #f0f8ff;border: 1px dotted black;border-radius: 0.25em;box-sizing: border-box;margin-bottom: 0.5em;}#sk-container-id-1 div.sk-estimator:hover {background-color: #d4ebff;}#sk-container-id-1 div.sk-parallel-item::after {content: \"\";width: 100%;border-bottom: 1px solid gray;flex-grow: 1;}#sk-container-id-1 div.sk-label:hover label.sk-toggleable__label {background-color: #d4ebff;}#sk-container-id-1 div.sk-serial::before {content: \"\";position: absolute;border-left: 1px solid gray;box-sizing: border-box;top: 0;bottom: 0;left: 50%;z-index: 0;}#sk-container-id-1 div.sk-serial {display: flex;flex-direction: column;align-items: center;background-color: white;padding-right: 0.2em;padding-left: 0.2em;position: relative;}#sk-container-id-1 div.sk-item {position: relative;z-index: 1;}#sk-container-id-1 div.sk-parallel {display: flex;align-items: stretch;justify-content: center;background-color: white;position: relative;}#sk-container-id-1 div.sk-item::before, #sk-container-id-1 div.sk-parallel-item::before {content: \"\";position: absolute;border-left: 1px solid gray;box-sizing: border-box;top: 0;bottom: 0;left: 50%;z-index: -1;}#sk-container-id-1 div.sk-parallel-item {display: flex;flex-direction: column;z-index: 1;position: relative;background-color: white;}#sk-container-id-1 div.sk-parallel-item:first-child::after {align-self: flex-end;width: 50%;}#sk-container-id-1 div.sk-parallel-item:last-child::after {align-self: flex-start;width: 50%;}#sk-container-id-1 div.sk-parallel-item:only-child::after {width: 0;}#sk-container-id-1 div.sk-dashed-wrapped {border: 1px dashed gray;margin: 0 0.4em 0.5em 0.4em;box-sizing: border-box;padding-bottom: 0.4em;background-color: white;}#sk-container-id-1 div.sk-label label {font-family: monospace;font-weight: bold;display: inline-block;line-height: 1.2em;}#sk-container-id-1 div.sk-label-container {text-align: center;}#sk-container-id-1 div.sk-container {/* jupyter's `normalize.less` sets `[hidden] { display: none; }` but bootstrap.min.css set `[hidden] { display: none !important; }` so we also need the `!important` here to be able to override the default hidden behavior on the sphinx rendered scikit-learn.org. See: https://github.com/scikit-learn/scikit-learn/issues/21755 */display: inline-block !important;position: relative;}#sk-container-id-1 div.sk-text-repr-fallback {display: none;}</style><div id=\"sk-container-id-1\" class=\"sk-top-container\"><div class=\"sk-text-repr-fallback\"><pre>GridSearchCV(estimator=SVC(),\n",
       "             param_grid={&#x27;C&#x27;: [0.1, 1, 10], &#x27;gamma&#x27;: [1, 0.1, 0.01],\n",
       "                         &#x27;kernel&#x27;: [&#x27;linear&#x27;, &#x27;sigmoid&#x27;]},\n",
       "             verbose=3)</pre><b>In a Jupyter environment, please rerun this cell to show the HTML representation or trust the notebook. <br />On GitHub, the HTML representation is unable to render, please try loading this page with nbviewer.org.</b></div><div class=\"sk-container\" hidden><div class=\"sk-item sk-dashed-wrapped\"><div class=\"sk-label-container\"><div class=\"sk-label sk-toggleable\"><input class=\"sk-toggleable__control sk-hidden--visually\" id=\"sk-estimator-id-1\" type=\"checkbox\" ><label for=\"sk-estimator-id-1\" class=\"sk-toggleable__label sk-toggleable__label-arrow\">GridSearchCV</label><div class=\"sk-toggleable__content\"><pre>GridSearchCV(estimator=SVC(),\n",
       "             param_grid={&#x27;C&#x27;: [0.1, 1, 10], &#x27;gamma&#x27;: [1, 0.1, 0.01],\n",
       "                         &#x27;kernel&#x27;: [&#x27;linear&#x27;, &#x27;sigmoid&#x27;]},\n",
       "             verbose=3)</pre></div></div></div><div class=\"sk-parallel\"><div class=\"sk-parallel-item\"><div class=\"sk-item\"><div class=\"sk-label-container\"><div class=\"sk-label sk-toggleable\"><input class=\"sk-toggleable__control sk-hidden--visually\" id=\"sk-estimator-id-2\" type=\"checkbox\" ><label for=\"sk-estimator-id-2\" class=\"sk-toggleable__label sk-toggleable__label-arrow\">estimator: SVC</label><div class=\"sk-toggleable__content\"><pre>SVC()</pre></div></div></div><div class=\"sk-serial\"><div class=\"sk-item\"><div class=\"sk-estimator sk-toggleable\"><input class=\"sk-toggleable__control sk-hidden--visually\" id=\"sk-estimator-id-3\" type=\"checkbox\" ><label for=\"sk-estimator-id-3\" class=\"sk-toggleable__label sk-toggleable__label-arrow\">SVC</label><div class=\"sk-toggleable__content\"><pre>SVC()</pre></div></div></div></div></div></div></div></div></div></div>"
      ],
      "text/plain": [
       "GridSearchCV(estimator=SVC(),\n",
       "             param_grid={'C': [0.1, 1, 10], 'gamma': [1, 0.1, 0.01],\n",
       "                         'kernel': ['linear', 'sigmoid']},\n",
       "             verbose=3)"
      ]
     },
     "execution_count": 14,
     "metadata": {},
     "output_type": "execute_result"
    }
   ],
   "source": [
    "## SVC hyperparameters tuning\n",
    "from sklearn.model_selection import GridSearchCV\n",
    " \n",
    "# defining parameter range\n",
    "param_grid_svc = {'C': [0.1, 1, 10],\n",
    "              'gamma': [1, 0.1, 0.01],\n",
    "              'kernel': ['linear', 'sigmoid']}\n",
    " \n",
    "grid_svc = GridSearchCV(SVC(), param_grid_svc, refit = True, verbose = 3)\n",
    " \n",
    "# fitting the model for grid search\n",
    "grid_svc.fit(X_train, y_train)"
   ]
  },
  {
   "cell_type": "code",
   "execution_count": 17,
   "metadata": {},
   "outputs": [
    {
     "data": {
      "text/plain": [
       "{'C': 1, 'gamma': 1, 'kernel': 'linear'}"
      ]
     },
     "execution_count": 17,
     "metadata": {},
     "output_type": "execute_result"
    }
   ],
   "source": [
    "## best parameters for SVC\n",
    "grid_svc.best_params_"
   ]
  },
  {
   "cell_type": "code",
   "execution_count": 10,
   "metadata": {},
   "outputs": [],
   "source": [
    "# 3. initializing classifiers\n",
    "classifier1 = SVC(C = 1, gamma = 1, kernel = \"linear\")\n",
    "\n",
    "\n",
    "classifier3 = NuSVC(gamma='auto', kernel = \"linear\", nu = 0.6)\n",
    "\n",
    "# Initializing Random Forest classifier\n",
    "classifier4 = RandomForestClassifier(n_estimators = 100, criterion = \"gini\", max_depth = 10,\n",
    "                                      min_samples_leaf = 0.05,\n",
    "                                     min_samples_split = 0.005, n_jobs = -1, random_state = 42)\n",
    "\n",
    "classifier5 = Log_Reg(bs=10, epochs=10, lr=1)\n",
    "# from sklearn.linear_model import LogisticRegression\n",
    "# classifier5 = LogisticRegression(C = 50, solver = \"lbfgs\", max_iter = 2000, random_state = 1000)\n"
   ]
  },
  {
   "cell_type": "code",
   "execution_count": 11,
   "metadata": {},
   "outputs": [],
   "source": [
    "# 4. Stacking Classifier                          #\n",
    "\n",
    "from distutils.log import Log\n",
    "\n",
    "sclf = StackingCVClassifier(classifiers = [classifier3, classifier4],\n",
    "                            shuffle = False,\n",
    "                            cv = 5,\n",
    "                            meta_classifier = classifier5)"
   ]
  },
  {
   "cell_type": "code",
   "execution_count": 17,
   "metadata": {},
   "outputs": [
    {
     "data": {
      "text/html": [
       "<style>#sk-container-id-2 {color: black;background-color: white;}#sk-container-id-2 pre{padding: 0;}#sk-container-id-2 div.sk-toggleable {background-color: white;}#sk-container-id-2 label.sk-toggleable__label {cursor: pointer;display: block;width: 100%;margin-bottom: 0;padding: 0.3em;box-sizing: border-box;text-align: center;}#sk-container-id-2 label.sk-toggleable__label-arrow:before {content: \"▸\";float: left;margin-right: 0.25em;color: #696969;}#sk-container-id-2 label.sk-toggleable__label-arrow:hover:before {color: black;}#sk-container-id-2 div.sk-estimator:hover label.sk-toggleable__label-arrow:before {color: black;}#sk-container-id-2 div.sk-toggleable__content {max-height: 0;max-width: 0;overflow: hidden;text-align: left;background-color: #f0f8ff;}#sk-container-id-2 div.sk-toggleable__content pre {margin: 0.2em;color: black;border-radius: 0.25em;background-color: #f0f8ff;}#sk-container-id-2 input.sk-toggleable__control:checked~div.sk-toggleable__content {max-height: 200px;max-width: 100%;overflow: auto;}#sk-container-id-2 input.sk-toggleable__control:checked~label.sk-toggleable__label-arrow:before {content: \"▾\";}#sk-container-id-2 div.sk-estimator input.sk-toggleable__control:checked~label.sk-toggleable__label {background-color: #d4ebff;}#sk-container-id-2 div.sk-label input.sk-toggleable__control:checked~label.sk-toggleable__label {background-color: #d4ebff;}#sk-container-id-2 input.sk-hidden--visually {border: 0;clip: rect(1px 1px 1px 1px);clip: rect(1px, 1px, 1px, 1px);height: 1px;margin: -1px;overflow: hidden;padding: 0;position: absolute;width: 1px;}#sk-container-id-2 div.sk-estimator {font-family: monospace;background-color: #f0f8ff;border: 1px dotted black;border-radius: 0.25em;box-sizing: border-box;margin-bottom: 0.5em;}#sk-container-id-2 div.sk-estimator:hover {background-color: #d4ebff;}#sk-container-id-2 div.sk-parallel-item::after {content: \"\";width: 100%;border-bottom: 1px solid gray;flex-grow: 1;}#sk-container-id-2 div.sk-label:hover label.sk-toggleable__label {background-color: #d4ebff;}#sk-container-id-2 div.sk-serial::before {content: \"\";position: absolute;border-left: 1px solid gray;box-sizing: border-box;top: 0;bottom: 0;left: 50%;z-index: 0;}#sk-container-id-2 div.sk-serial {display: flex;flex-direction: column;align-items: center;background-color: white;padding-right: 0.2em;padding-left: 0.2em;position: relative;}#sk-container-id-2 div.sk-item {position: relative;z-index: 1;}#sk-container-id-2 div.sk-parallel {display: flex;align-items: stretch;justify-content: center;background-color: white;position: relative;}#sk-container-id-2 div.sk-item::before, #sk-container-id-2 div.sk-parallel-item::before {content: \"\";position: absolute;border-left: 1px solid gray;box-sizing: border-box;top: 0;bottom: 0;left: 50%;z-index: -1;}#sk-container-id-2 div.sk-parallel-item {display: flex;flex-direction: column;z-index: 1;position: relative;background-color: white;}#sk-container-id-2 div.sk-parallel-item:first-child::after {align-self: flex-end;width: 50%;}#sk-container-id-2 div.sk-parallel-item:last-child::after {align-self: flex-start;width: 50%;}#sk-container-id-2 div.sk-parallel-item:only-child::after {width: 0;}#sk-container-id-2 div.sk-dashed-wrapped {border: 1px dashed gray;margin: 0 0.4em 0.5em 0.4em;box-sizing: border-box;padding-bottom: 0.4em;background-color: white;}#sk-container-id-2 div.sk-label label {font-family: monospace;font-weight: bold;display: inline-block;line-height: 1.2em;}#sk-container-id-2 div.sk-label-container {text-align: center;}#sk-container-id-2 div.sk-container {/* jupyter's `normalize.less` sets `[hidden] { display: none; }` but bootstrap.min.css set `[hidden] { display: none !important; }` so we also need the `!important` here to be able to override the default hidden behavior on the sphinx rendered scikit-learn.org. See: https://github.com/scikit-learn/scikit-learn/issues/21755 */display: inline-block !important;position: relative;}#sk-container-id-2 div.sk-text-repr-fallback {display: none;}</style><div id=\"sk-container-id-2\" class=\"sk-top-container\"><div class=\"sk-text-repr-fallback\"><pre>StackingCVClassifier(classifiers=[NuSVC(gamma=&#x27;auto&#x27;, kernel=&#x27;linear&#x27;, nu=0.6),\n",
       "                                  RandomForestClassifier(max_depth=10,\n",
       "                                                         min_samples_leaf=0.05,\n",
       "                                                         min_samples_split=0.005,\n",
       "                                                         n_jobs=-1,\n",
       "                                                         random_state=42)],\n",
       "                     cv=5, meta_classifier=Log_Reg(bs=10, epochs=10, lr=1),\n",
       "                     shuffle=False)</pre><b>In a Jupyter environment, please rerun this cell to show the HTML representation or trust the notebook. <br />On GitHub, the HTML representation is unable to render, please try loading this page with nbviewer.org.</b></div><div class=\"sk-container\" hidden><div class=\"sk-item sk-dashed-wrapped\"><div class=\"sk-label-container\"><div class=\"sk-label sk-toggleable\"><input class=\"sk-toggleable__control sk-hidden--visually\" id=\"sk-estimator-id-4\" type=\"checkbox\" ><label for=\"sk-estimator-id-4\" class=\"sk-toggleable__label sk-toggleable__label-arrow\">StackingCVClassifier</label><div class=\"sk-toggleable__content\"><pre>StackingCVClassifier(classifiers=[NuSVC(gamma=&#x27;auto&#x27;, kernel=&#x27;linear&#x27;, nu=0.6),\n",
       "                                  RandomForestClassifier(max_depth=10,\n",
       "                                                         min_samples_leaf=0.05,\n",
       "                                                         min_samples_split=0.005,\n",
       "                                                         n_jobs=-1,\n",
       "                                                         random_state=42)],\n",
       "                     cv=5, meta_classifier=Log_Reg(bs=10, epochs=10, lr=1),\n",
       "                     shuffle=False)</pre></div></div></div><div class=\"sk-parallel\"><div class=\"sk-parallel-item\"><div class=\"sk-item\"><div class=\"sk-label-container\"><div class=\"sk-label sk-toggleable\"><input class=\"sk-toggleable__control sk-hidden--visually\" id=\"sk-estimator-id-5\" type=\"checkbox\" ><label for=\"sk-estimator-id-5\" class=\"sk-toggleable__label sk-toggleable__label-arrow\">meta_classifier: Log_Reg</label><div class=\"sk-toggleable__content\"><pre>Log_Reg(bs=10, epochs=10, lr=1)</pre></div></div></div><div class=\"sk-serial\"><div class=\"sk-item\"><div class=\"sk-estimator sk-toggleable\"><input class=\"sk-toggleable__control sk-hidden--visually\" id=\"sk-estimator-id-6\" type=\"checkbox\" ><label for=\"sk-estimator-id-6\" class=\"sk-toggleable__label sk-toggleable__label-arrow\">Log_Reg</label><div class=\"sk-toggleable__content\"><pre>Log_Reg(bs=10, epochs=10, lr=1)</pre></div></div></div></div></div></div></div></div></div></div>"
      ],
      "text/plain": [
       "StackingCVClassifier(classifiers=[NuSVC(gamma='auto', kernel='linear', nu=0.6),\n",
       "                                  RandomForestClassifier(max_depth=10,\n",
       "                                                         min_samples_leaf=0.05,\n",
       "                                                         min_samples_split=0.005,\n",
       "                                                         n_jobs=-1,\n",
       "                                                         random_state=42)],\n",
       "                     cv=5, meta_classifier=Log_Reg(bs=10, epochs=10, lr=1),\n",
       "                     shuffle=False)"
      ]
     },
     "execution_count": 17,
     "metadata": {},
     "output_type": "execute_result"
    }
   ],
   "source": [
    "sclf.fit(X, y)"
   ]
  },
  {
   "cell_type": "code",
   "execution_count": 15,
   "metadata": {},
   "outputs": [],
   "source": [
    "y_pred = sclf.predict(X_test)"
   ]
  },
  {
   "cell_type": "code",
   "execution_count": 16,
   "metadata": {},
   "outputs": [
    {
     "name": "stdout",
     "output_type": "stream",
     "text": [
      "Accuracy of SVC: 0.7262147221414024\n",
      "Precision of SVC: 0.6689655172413793\n",
      "Recall of SVC: 0.528816199376947\n",
      "F1 score of SVC: 0.590691605045672\n"
     ]
    }
   ],
   "source": [
    "print(\"Accuracy of SVC:\", metrics.accuracy_score(y_test, y_pred))\n",
    "print(\"Precision of SVC:\", metrics.precision_score(y_test, y_pred))\n",
    "print(\"Recall of SVC:\", metrics.recall_score(y_test, y_pred))\n",
    "print(\"F1 score of SVC:\", metrics.f1_score(y_test, y_pred))"
   ]
  }
 ],
 "metadata": {
  "kernelspec": {
   "display_name": "Python 3.9.13 64-bit",
   "language": "python",
   "name": "python3"
  },
  "language_info": {
   "codemirror_mode": {
    "name": "ipython",
    "version": 3
   },
   "file_extension": ".py",
   "mimetype": "text/x-python",
   "name": "python",
   "nbconvert_exporter": "python",
   "pygments_lexer": "ipython3",
   "version": "3.9.13"
  },
  "orig_nbformat": 4,
  "vscode": {
   "interpreter": {
    "hash": "626e0ee87f753e5a94e4918b06b0df5198147ddbbedd85f3f498c13fcf09ca14"
   }
  }
 },
 "nbformat": 4,
 "nbformat_minor": 2
}
