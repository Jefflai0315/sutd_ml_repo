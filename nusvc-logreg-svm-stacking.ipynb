{
 "cells": [
  {
   "cell_type": "code",
   "execution_count": 2,
   "metadata": {},
   "outputs": [],
   "source": [
    "import pandas as pd\n",
    "import numpy as np\n",
    "import seaborn as sns\n",
    "import matplotlib.pyplot as plt\n",
    "from sklearn import model_selection\n",
    "from sklearn.model_selection import train_test_split, GridSearchCV\n",
    "from sklearn.preprocessing import StandardScaler\n",
    "from sklearn.pipeline import Pipeline\n",
    "from sklearn import metrics\n",
    "\n",
    "from sklearn.svm import NuSVC, SVC\n",
    "from sklearn.neural_network import MLPClassifier\n",
    "from sklearn.ensemble import RandomForestClassifier\n",
    "from mlxtend.classifier import StackingCVClassifier # <- Here is our boy\n",
    "\n"
   ]
  },
  {
   "cell_type": "code",
   "execution_count": 4,
   "metadata": {},
   "outputs": [],
   "source": [
    "# 0. load our PCA 4200 data_set\n",
    "data_train = pd.read_csv('PCA_X_train_4200.csv')\n",
    "y = data_train['label']\n",
    "X = data_train.drop(['id', 'label'], axis=1)\n",
    "data_test = pd.read_csv('PCA_X_test_4200.csv')\n",
    "X_test = data_test.drop(['id'], axis=1)\n"
   ]
  },
  {
   "cell_type": "code",
   "execution_count": 7,
   "metadata": {},
   "outputs": [],
   "source": [
    "#1. create a Log Reg class \n",
    "from sklearn.base import BaseEstimator, RegressorMixin\n",
    "from sklearn.utils.validation import check_X_y, check_array, check_is_fitted\n",
    "\n",
    "class Log_Reg(BaseEstimator, RegressorMixin):\n",
    "    def __init__(self,bs=5,epochs=100,lr=0.01):\n",
    "        self.bs = bs\n",
    "        self.epochs = epochs\n",
    "        self.lr = lr\n",
    "        self.w = 0\n",
    "        self.b = 0\n",
    "        self.losses = []\n",
    "\n",
    "    #sigmoid function \n",
    "    def sigmoid(self,z):\n",
    "        return 1.0/(1 + np.exp(-z))\n",
    "\n",
    "    #loss function\n",
    "    def loss(self,y, y_hat):\n",
    "        loss = -np.mean(y*(np.log(y_hat)) - (1-y)*np.log(1-y_hat))\n",
    "        return loss\n",
    "\n",
    "\n",
    "    #gradient descent \n",
    "    def gradients(self,X, y, y_hat):\n",
    "        m = X.shape[0]\n",
    "        dw = (1/m)*np.dot(X.T, (y_hat - y))\n",
    "        db = (1/m)*np.sum((y_hat - y)) \n",
    "        return dw, db\n",
    "\n",
    "    def fit(self,X, y):\n",
    "       \n",
    "        if type(X) != np.array:\n",
    "            X = np.array(X)\n",
    "        if type(y) != np.array:\n",
    "            y = np.array(y)\n",
    "        \n",
    "        X, y = check_X_y(X, y)\n",
    "        m, n = X.shape\n",
    "    \n",
    "    # Initializing weights and bias to zeros.\n",
    "        w = np.zeros((n,1))\n",
    "        b = 0\n",
    "        y = y.reshape(m,1)\n",
    "        losses = []\n",
    "        for epoch in range(self.epochs):\n",
    "            for i in range((m-1)//self.bs + 1):\n",
    "                \n",
    "                # random batch of size bs.\n",
    "                index = np.random.randint(0,(m-1)//self.bs + 1)\n",
    "                # Defining batches. SGD.\n",
    "                start_i = index*self.bs\n",
    "                end_i = start_i + self.bs\n",
    "                xb = X[start_i:end_i]\n",
    "                yb = y[start_i:end_i]\n",
    "                \n",
    "                # Calculating hypothesis/prediction.\n",
    "                y_hat = self.sigmoid(np.dot(xb, w) + b)\n",
    "                \n",
    "                # Getting the gradients of loss w.r.t parameters.\n",
    "                dw, db = self.gradients(xb, yb, y_hat)\n",
    "                \n",
    "                # Updating the parameters.\n",
    "                w -= self.lr*dw\n",
    "                b -= self.lr*db\n",
    "            \n",
    "            # Calculating loss and appending it in the list.\n",
    "            l = self.loss(y, self.sigmoid(np.dot(X, w) + b))\n",
    "            losses.append(l)\n",
    "            \n",
    "        # returning weights, bias and losses(List).\n",
    "        self.w = w\n",
    "        self.b = b\n",
    "        self.losses.append(losses)\n",
    "        return w, b, losses\n",
    "\n",
    "    #predict function \n",
    "    def predict(self,X):\n",
    "        if type(X) != np.array:\n",
    "            X = np.array(X)\n",
    "        preds = self.sigmoid(np.dot(X, self.w) + self.b)\n",
    "       \n",
    "        pred_class = []\n",
    "        pred_class = [1 if i > 0.5 else 0 for i in preds]\n",
    "        return np.array(pred_class)\n",
    "        "
   ]
  },
  {
   "cell_type": "code",
   "execution_count": 30,
   "metadata": {},
   "outputs": [],
   "source": [
    "logr = Log_Reg(bs=10, epochs=10, lr=1)"
   ]
  },
  {
   "cell_type": "code",
   "execution_count": 31,
   "metadata": {},
   "outputs": [
    {
     "data": {
      "text/plain": [
       "(array([[-1.49325533],\n",
       "        [-0.27536144],\n",
       "        [-1.73257007],\n",
       "        ...,\n",
       "        [ 0.29865216],\n",
       "        [-0.09670665],\n",
       "        [-0.01756879]]),\n",
       " -0.7640155776694623,\n",
       " [0.19853723581179555,\n",
       "  0.154601548069137,\n",
       "  0.12132409116113514,\n",
       "  0.046896419397029494,\n",
       "  -0.0026455807738090076,\n",
       "  -0.12223423729178405,\n",
       "  0.17743879151829262,\n",
       "  -0.0007490003399042913,\n",
       "  0.1631540700485447,\n",
       "  -0.03735077785515014])"
      ]
     },
     "execution_count": 31,
     "metadata": {},
     "output_type": "execute_result"
    }
   ],
   "source": [
    "logr.fit(X, y)"
   ]
  },
  {
   "cell_type": "code",
   "execution_count": 35,
   "metadata": {},
   "outputs": [],
   "source": [
    "\n",
    "X_test = data_test.drop(['id'], axis=1)\n",
    "y_pred = logr.predict(X_test)\n",
    "\n",
    "#export convert numpy to dataframe\n",
    "df = pd.DataFrame(y_pred, columns=['label'])\n",
    "output = pd.concat([data_test['id'], df], axis=1)\n",
    "#export df to csv\n",
    "output.to_csv('069_test2.csv', index=False)\n"
   ]
  },
  {
   "cell_type": "code",
   "execution_count": 18,
   "metadata": {},
   "outputs": [],
   "source": [
    "# 2. Create train and test set    \n",
    "X_train, X_test, y_train, y_test = train_test_split(X, y, test_size=0.2, random_state=1000)"
   ]
  },
  {
   "cell_type": "code",
   "execution_count": 9,
   "metadata": {},
   "outputs": [
    {
     "data": {
      "text/plain": [
       "array([0, 0, 1, ..., 1, 0, 0])"
      ]
     },
     "execution_count": 9,
     "metadata": {},
     "output_type": "execute_result"
    }
   ],
   "source": [
    "y_pred = logr.predict(X_test)\n",
    "print(\"Accuracy of SVC:\", metrics.accuracy_score(y_test, y_pred))\n",
    "print(\"Precision of SVC:\", metrics.precision_score(y_test, y_pred))\n",
    "print(\"Recall of SVC:\", metrics.recall_score(y_test, y_pred))\n",
    "print(\"F1 score of SVC:\", metrics.f1_score(y_test, y_pred))"
   ]
  },
  {
   "cell_type": "code",
   "execution_count": 21,
   "metadata": {},
   "outputs": [
    {
     "name": "stdout",
     "output_type": "stream",
     "text": [
      "Fitting 5 folds for each of 40 candidates, totalling 200 fits\n",
      "[CV 1/5] END ............bs=10, epochs=5, lr=1;, score=-0.165 total time=   6.1s\n",
      "[CV 2/5] END ............bs=10, epochs=5, lr=1;, score=-0.176 total time=   4.4s\n",
      "[CV 3/5] END ............bs=10, epochs=5, lr=1;, score=-0.257 total time=   7.3s\n",
      "[CV 4/5] END ............bs=10, epochs=5, lr=1;, score=-0.206 total time=   4.3s\n",
      "[CV 5/5] END ............bs=10, epochs=5, lr=1;, score=-0.199 total time=   4.4s\n",
      "[CV 1/5] END ..........bs=10, epochs=5, lr=0.1;, score=-0.468 total time=   4.4s\n",
      "[CV 2/5] END ..........bs=10, epochs=5, lr=0.1;, score=-0.529 total time=   5.4s\n",
      "[CV 3/5] END ..........bs=10, epochs=5, lr=0.1;, score=-0.546 total time=   4.5s\n",
      "[CV 4/5] END ..........bs=10, epochs=5, lr=0.1;, score=-0.578 total time=   4.8s\n",
      "[CV 5/5] END ..........bs=10, epochs=5, lr=0.1;, score=-0.394 total time=   6.5s\n",
      "[CV 1/5] END .........bs=10, epochs=5, lr=0.01;, score=-0.621 total time=   5.2s\n",
      "[CV 2/5] END .........bs=10, epochs=5, lr=0.01;, score=-0.584 total time=   3.7s\n",
      "[CV 3/5] END .........bs=10, epochs=5, lr=0.01;, score=-0.636 total time=   5.9s\n",
      "[CV 4/5] END .........bs=10, epochs=5, lr=0.01;, score=-0.653 total time=   4.9s\n",
      "[CV 5/5] END .........bs=10, epochs=5, lr=0.01;, score=-0.602 total time=   4.9s\n",
      "[CV 1/5] END ........bs=10, epochs=5, lr=0.001;, score=-0.621 total time=   5.1s\n",
      "[CV 2/5] END ........bs=10, epochs=5, lr=0.001;, score=-0.584 total time=   5.4s\n",
      "[CV 3/5] END ........bs=10, epochs=5, lr=0.001;, score=-0.636 total time=   4.2s\n",
      "[CV 4/5] END ........bs=10, epochs=5, lr=0.001;, score=-0.653 total time=   4.2s\n",
      "[CV 5/5] END ........bs=10, epochs=5, lr=0.001;, score=-0.602 total time=   4.5s\n",
      "[CV 1/5] END .......bs=10, epochs=5, lr=0.0001;, score=-0.621 total time=   6.8s\n",
      "[CV 2/5] END .......bs=10, epochs=5, lr=0.0001;, score=-0.584 total time=   5.5s\n",
      "[CV 3/5] END .......bs=10, epochs=5, lr=0.0001;, score=-0.636 total time=   4.8s\n",
      "[CV 4/5] END .......bs=10, epochs=5, lr=0.0001;, score=-0.653 total time=   6.2s\n",
      "[CV 5/5] END .......bs=10, epochs=5, lr=0.0001;, score=-0.602 total time=   6.1s\n",
      "[CV 1/5] END ...........bs=10, epochs=10, lr=1;, score=-0.192 total time=   8.6s\n",
      "[CV 2/5] END ...........bs=10, epochs=10, lr=1;, score=-0.145 total time=   9.7s\n",
      "[CV 3/5] END ...........bs=10, epochs=10, lr=1;, score=-0.275 total time=  11.3s\n",
      "[CV 4/5] END ...........bs=10, epochs=10, lr=1;, score=-0.161 total time=  10.7s\n",
      "[CV 5/5] END ...........bs=10, epochs=10, lr=1;, score=-0.186 total time=  10.4s\n",
      "[CV 1/5] END .........bs=10, epochs=10, lr=0.1;, score=-0.389 total time=   8.4s\n",
      "[CV 2/5] END .........bs=10, epochs=10, lr=0.1;, score=-0.389 total time=   9.4s\n",
      "[CV 3/5] END .........bs=10, epochs=10, lr=0.1;, score=-0.463 total time=  11.8s\n",
      "[CV 4/5] END .........bs=10, epochs=10, lr=0.1;, score=-0.483 total time=   8.7s\n",
      "[CV 5/5] END .........bs=10, epochs=10, lr=0.1;, score=-0.359 total time=   7.6s\n",
      "[CV 1/5] END ........bs=10, epochs=10, lr=0.01;, score=-0.620 total time=   9.5s\n",
      "[CV 2/5] END ........bs=10, epochs=10, lr=0.01;, score=-0.584 total time=   8.6s\n",
      "[CV 3/5] END ........bs=10, epochs=10, lr=0.01;, score=-0.636 total time=   9.4s\n",
      "[CV 4/5] END ........bs=10, epochs=10, lr=0.01;, score=-0.653 total time=   8.2s\n",
      "[CV 5/5] END ........bs=10, epochs=10, lr=0.01;, score=-0.602 total time=   8.7s\n",
      "[CV 1/5] END .......bs=10, epochs=10, lr=0.001;, score=-0.621 total time=   8.4s\n",
      "[CV 2/5] END .......bs=10, epochs=10, lr=0.001;, score=-0.584 total time=  10.4s\n",
      "[CV 3/5] END .......bs=10, epochs=10, lr=0.001;, score=-0.636 total time=   9.4s\n",
      "[CV 4/5] END .......bs=10, epochs=10, lr=0.001;, score=-0.653 total time=  11.8s\n",
      "[CV 5/5] END .......bs=10, epochs=10, lr=0.001;, score=-0.602 total time=  10.8s\n",
      "[CV 1/5] END ......bs=10, epochs=10, lr=0.0001;, score=-0.621 total time=  11.4s\n",
      "[CV 2/5] END ......bs=10, epochs=10, lr=0.0001;, score=-0.584 total time=  10.4s\n",
      "[CV 3/5] END ......bs=10, epochs=10, lr=0.0001;, score=-0.636 total time=   7.3s\n",
      "[CV 4/5] END ......bs=10, epochs=10, lr=0.0001;, score=-0.653 total time=   9.3s\n",
      "[CV 5/5] END ......bs=10, epochs=10, lr=0.0001;, score=-0.602 total time=  12.8s\n",
      "[CV 1/5] END ...........bs=100, epochs=5, lr=1;, score=-0.515 total time=   3.6s\n",
      "[CV 2/5] END ...........bs=100, epochs=5, lr=1;, score=-0.484 total time=   3.6s\n",
      "[CV 3/5] END ...........bs=100, epochs=5, lr=1;, score=-0.551 total time=   3.8s\n",
      "[CV 4/5] END ...........bs=100, epochs=5, lr=1;, score=-0.492 total time=   3.5s\n",
      "[CV 5/5] END ...........bs=100, epochs=5, lr=1;, score=-0.563 total time=   3.7s\n",
      "[CV 1/5] END .........bs=100, epochs=5, lr=0.1;, score=-0.621 total time=   3.7s\n",
      "[CV 2/5] END .........bs=100, epochs=5, lr=0.1;, score=-0.584 total time=   3.8s\n",
      "[CV 3/5] END .........bs=100, epochs=5, lr=0.1;, score=-0.636 total time=   3.6s\n",
      "[CV 4/5] END .........bs=100, epochs=5, lr=0.1;, score=-0.653 total time=   3.6s\n",
      "[CV 5/5] END .........bs=100, epochs=5, lr=0.1;, score=-0.602 total time=   3.7s\n",
      "[CV 1/5] END ........bs=100, epochs=5, lr=0.01;, score=-0.621 total time=   3.6s\n",
      "[CV 2/5] END ........bs=100, epochs=5, lr=0.01;, score=-0.584 total time=   3.6s\n",
      "[CV 3/5] END ........bs=100, epochs=5, lr=0.01;, score=-0.636 total time=   3.6s\n",
      "[CV 4/5] END ........bs=100, epochs=5, lr=0.01;, score=-0.653 total time=   3.6s\n",
      "[CV 5/5] END ........bs=100, epochs=5, lr=0.01;, score=-0.602 total time=   3.7s\n",
      "[CV 1/5] END .......bs=100, epochs=5, lr=0.001;, score=-0.621 total time=   3.8s\n",
      "[CV 2/5] END .......bs=100, epochs=5, lr=0.001;, score=-0.584 total time=   3.9s\n",
      "[CV 3/5] END .......bs=100, epochs=5, lr=0.001;, score=-0.636 total time=   3.8s\n",
      "[CV 4/5] END .......bs=100, epochs=5, lr=0.001;, score=-0.653 total time=   3.8s\n",
      "[CV 5/5] END .......bs=100, epochs=5, lr=0.001;, score=-0.602 total time=   3.6s\n",
      "[CV 1/5] END ......bs=100, epochs=5, lr=0.0001;, score=-0.621 total time=   3.7s\n",
      "[CV 2/5] END ......bs=100, epochs=5, lr=0.0001;, score=-0.584 total time=   3.8s\n",
      "[CV 3/5] END ......bs=100, epochs=5, lr=0.0001;, score=-0.636 total time=   3.2s\n",
      "[CV 4/5] END ......bs=100, epochs=5, lr=0.0001;, score=-0.653 total time=   3.3s\n",
      "[CV 5/5] END ......bs=100, epochs=5, lr=0.0001;, score=-0.602 total time=   3.3s\n",
      "[CV 1/5] END ..........bs=100, epochs=10, lr=1;, score=-0.375 total time=   6.3s\n",
      "[CV 2/5] END ..........bs=100, epochs=10, lr=1;, score=-0.411 total time=   6.9s\n",
      "[CV 3/5] END ..........bs=100, epochs=10, lr=1;, score=-0.365 total time=   7.0s\n",
      "[CV 4/5] END ..........bs=100, epochs=10, lr=1;, score=-0.504 total time=   6.4s\n",
      "[CV 5/5] END ..........bs=100, epochs=10, lr=1;, score=-0.360 total time=   6.5s\n",
      "[CV 1/5] END ........bs=100, epochs=10, lr=0.1;, score=-0.621 total time=   6.7s\n",
      "[CV 2/5] END ........bs=100, epochs=10, lr=0.1;, score=-0.584 total time=   6.9s\n",
      "[CV 3/5] END ........bs=100, epochs=10, lr=0.1;, score=-0.636 total time=   6.8s\n",
      "[CV 4/5] END ........bs=100, epochs=10, lr=0.1;, score=-0.653 total time=   6.9s\n",
      "[CV 5/5] END ........bs=100, epochs=10, lr=0.1;, score=-0.602 total time=   6.8s\n",
      "[CV 1/5] END .......bs=100, epochs=10, lr=0.01;, score=-0.621 total time=   6.9s\n",
      "[CV 2/5] END .......bs=100, epochs=10, lr=0.01;, score=-0.584 total time=   7.1s\n",
      "[CV 3/5] END .......bs=100, epochs=10, lr=0.01;, score=-0.636 total time=   6.9s\n",
      "[CV 4/5] END .......bs=100, epochs=10, lr=0.01;, score=-0.653 total time=   6.5s\n",
      "[CV 5/5] END .......bs=100, epochs=10, lr=0.01;, score=-0.602 total time=   6.9s\n",
      "[CV 1/5] END ......bs=100, epochs=10, lr=0.001;, score=-0.621 total time=   6.9s\n",
      "[CV 2/5] END ......bs=100, epochs=10, lr=0.001;, score=-0.584 total time=   7.0s\n",
      "[CV 3/5] END ......bs=100, epochs=10, lr=0.001;, score=-0.636 total time=   7.0s\n",
      "[CV 4/5] END ......bs=100, epochs=10, lr=0.001;, score=-0.653 total time=   6.9s\n",
      "[CV 5/5] END ......bs=100, epochs=10, lr=0.001;, score=-0.602 total time=   6.9s\n",
      "[CV 1/5] END .....bs=100, epochs=10, lr=0.0001;, score=-0.621 total time=   6.9s\n",
      "[CV 2/5] END .....bs=100, epochs=10, lr=0.0001;, score=-0.584 total time=   6.9s\n",
      "[CV 3/5] END .....bs=100, epochs=10, lr=0.0001;, score=-0.636 total time=   6.9s\n",
      "[CV 4/5] END .....bs=100, epochs=10, lr=0.0001;, score=-0.653 total time=   6.8s\n",
      "[CV 5/5] END .....bs=100, epochs=10, lr=0.0001;, score=-0.602 total time=   6.7s\n",
      "[CV 1/5] END ...........bs=200, epochs=5, lr=1;, score=-0.600 total time=   3.2s\n",
      "[CV 2/5] END ...........bs=200, epochs=5, lr=1;, score=-0.572 total time=   3.2s\n",
      "[CV 3/5] END ...........bs=200, epochs=5, lr=1;, score=-0.635 total time=   3.1s\n",
      "[CV 4/5] END ...........bs=200, epochs=5, lr=1;, score=-0.639 total time=   3.2s\n",
      "[CV 5/5] END ...........bs=200, epochs=5, lr=1;, score=-0.602 total time=   3.2s\n",
      "[CV 1/5] END .........bs=200, epochs=5, lr=0.1;, score=-0.621 total time=   3.2s\n",
      "[CV 2/5] END .........bs=200, epochs=5, lr=0.1;, score=-0.584 total time=   3.3s\n",
      "[CV 3/5] END .........bs=200, epochs=5, lr=0.1;, score=-0.636 total time=   3.2s\n",
      "[CV 4/5] END .........bs=200, epochs=5, lr=0.1;, score=-0.653 total time=   3.2s\n",
      "[CV 5/5] END .........bs=200, epochs=5, lr=0.1;, score=-0.602 total time=   3.2s\n",
      "[CV 1/5] END ........bs=200, epochs=5, lr=0.01;, score=-0.621 total time=   3.2s\n",
      "[CV 2/5] END ........bs=200, epochs=5, lr=0.01;, score=-0.584 total time=   3.2s\n",
      "[CV 3/5] END ........bs=200, epochs=5, lr=0.01;, score=-0.636 total time=   3.1s\n",
      "[CV 4/5] END ........bs=200, epochs=5, lr=0.01;, score=-0.653 total time=   3.2s\n",
      "[CV 5/5] END ........bs=200, epochs=5, lr=0.01;, score=-0.602 total time=   3.2s\n",
      "[CV 1/5] END .......bs=200, epochs=5, lr=0.001;, score=-0.621 total time=   3.2s\n",
      "[CV 2/5] END .......bs=200, epochs=5, lr=0.001;, score=-0.584 total time=   3.3s\n",
      "[CV 3/5] END .......bs=200, epochs=5, lr=0.001;, score=-0.636 total time=   3.2s\n",
      "[CV 4/5] END .......bs=200, epochs=5, lr=0.001;, score=-0.653 total time=   3.2s\n",
      "[CV 5/5] END .......bs=200, epochs=5, lr=0.001;, score=-0.602 total time=   3.1s\n",
      "[CV 1/5] END ......bs=200, epochs=5, lr=0.0001;, score=-0.621 total time=   3.2s\n",
      "[CV 2/5] END ......bs=200, epochs=5, lr=0.0001;, score=-0.584 total time=   3.2s\n",
      "[CV 3/5] END ......bs=200, epochs=5, lr=0.0001;, score=-0.636 total time=   3.1s\n",
      "[CV 4/5] END ......bs=200, epochs=5, lr=0.0001;, score=-0.653 total time=   3.2s\n",
      "[CV 5/5] END ......bs=200, epochs=5, lr=0.0001;, score=-0.602 total time=   3.2s\n",
      "[CV 1/5] END ..........bs=200, epochs=10, lr=1;, score=-0.538 total time=   6.2s\n",
      "[CV 2/5] END ..........bs=200, epochs=10, lr=1;, score=-0.523 total time=   6.2s\n",
      "[CV 3/5] END ..........bs=200, epochs=10, lr=1;, score=-0.560 total time=   6.3s\n",
      "[CV 4/5] END ..........bs=200, epochs=10, lr=1;, score=-0.571 total time=   6.2s\n",
      "[CV 5/5] END ..........bs=200, epochs=10, lr=1;, score=-0.537 total time=   6.4s\n",
      "[CV 1/5] END ........bs=200, epochs=10, lr=0.1;, score=-0.621 total time=   6.4s\n",
      "[CV 2/5] END ........bs=200, epochs=10, lr=0.1;, score=-0.584 total time=   6.2s\n",
      "[CV 3/5] END ........bs=200, epochs=10, lr=0.1;, score=-0.636 total time=   6.3s\n",
      "[CV 4/5] END ........bs=200, epochs=10, lr=0.1;, score=-0.653 total time=   6.1s\n",
      "[CV 5/5] END ........bs=200, epochs=10, lr=0.1;, score=-0.602 total time=   6.1s\n",
      "[CV 1/5] END .......bs=200, epochs=10, lr=0.01;, score=-0.621 total time=   6.2s\n",
      "[CV 2/5] END .......bs=200, epochs=10, lr=0.01;, score=-0.584 total time=   6.2s\n",
      "[CV 3/5] END .......bs=200, epochs=10, lr=0.01;, score=-0.636 total time=   6.1s\n",
      "[CV 4/5] END .......bs=200, epochs=10, lr=0.01;, score=-0.653 total time=   6.1s\n",
      "[CV 5/5] END .......bs=200, epochs=10, lr=0.01;, score=-0.602 total time=   6.3s\n",
      "[CV 1/5] END ......bs=200, epochs=10, lr=0.001;, score=-0.621 total time=   6.2s\n",
      "[CV 2/5] END ......bs=200, epochs=10, lr=0.001;, score=-0.584 total time=   6.2s\n",
      "[CV 3/5] END ......bs=200, epochs=10, lr=0.001;, score=-0.636 total time=   6.1s\n",
      "[CV 4/5] END ......bs=200, epochs=10, lr=0.001;, score=-0.653 total time=   6.1s\n",
      "[CV 5/5] END ......bs=200, epochs=10, lr=0.001;, score=-0.602 total time=   6.1s\n",
      "[CV 1/5] END .....bs=200, epochs=10, lr=0.0001;, score=-0.621 total time=   6.1s\n",
      "[CV 2/5] END .....bs=200, epochs=10, lr=0.0001;, score=-0.584 total time=   6.2s\n",
      "[CV 3/5] END .....bs=200, epochs=10, lr=0.0001;, score=-0.636 total time=   6.3s\n",
      "[CV 4/5] END .....bs=200, epochs=10, lr=0.0001;, score=-0.653 total time=   6.1s\n",
      "[CV 5/5] END .....bs=200, epochs=10, lr=0.0001;, score=-0.602 total time=   6.0s\n",
      "[CV 1/5] END ...........bs=500, epochs=5, lr=1;, score=-0.621 total time=   3.1s\n",
      "[CV 2/5] END ...........bs=500, epochs=5, lr=1;, score=-0.584 total time=   3.0s\n",
      "[CV 3/5] END ...........bs=500, epochs=5, lr=1;, score=-0.636 total time=   2.9s\n",
      "[CV 4/5] END ...........bs=500, epochs=5, lr=1;, score=-0.652 total time=   2.9s\n",
      "[CV 5/5] END ...........bs=500, epochs=5, lr=1;, score=-0.602 total time=   2.9s\n",
      "[CV 1/5] END .........bs=500, epochs=5, lr=0.1;, score=-0.621 total time=   2.9s\n",
      "[CV 2/5] END .........bs=500, epochs=5, lr=0.1;, score=-0.584 total time=   3.0s\n",
      "[CV 3/5] END .........bs=500, epochs=5, lr=0.1;, score=-0.636 total time=   2.9s\n",
      "[CV 4/5] END .........bs=500, epochs=5, lr=0.1;, score=-0.653 total time=   2.9s\n",
      "[CV 5/5] END .........bs=500, epochs=5, lr=0.1;, score=-0.602 total time=   2.9s\n",
      "[CV 1/5] END ........bs=500, epochs=5, lr=0.01;, score=-0.621 total time=   2.9s\n",
      "[CV 2/5] END ........bs=500, epochs=5, lr=0.01;, score=-0.584 total time=   2.9s\n",
      "[CV 3/5] END ........bs=500, epochs=5, lr=0.01;, score=-0.636 total time=   2.9s\n",
      "[CV 4/5] END ........bs=500, epochs=5, lr=0.01;, score=-0.653 total time=   2.9s\n",
      "[CV 5/5] END ........bs=500, epochs=5, lr=0.01;, score=-0.602 total time=   2.9s\n",
      "[CV 1/5] END .......bs=500, epochs=5, lr=0.001;, score=-0.621 total time=   2.9s\n",
      "[CV 2/5] END .......bs=500, epochs=5, lr=0.001;, score=-0.584 total time=   2.9s\n",
      "[CV 3/5] END .......bs=500, epochs=5, lr=0.001;, score=-0.636 total time=   2.9s\n",
      "[CV 4/5] END .......bs=500, epochs=5, lr=0.001;, score=-0.653 total time=   2.9s\n",
      "[CV 5/5] END .......bs=500, epochs=5, lr=0.001;, score=-0.602 total time=   2.9s\n",
      "[CV 1/5] END ......bs=500, epochs=5, lr=0.0001;, score=-0.621 total time=   2.9s\n",
      "[CV 2/5] END ......bs=500, epochs=5, lr=0.0001;, score=-0.584 total time=   2.9s\n",
      "[CV 3/5] END ......bs=500, epochs=5, lr=0.0001;, score=-0.636 total time=   2.9s\n",
      "[CV 4/5] END ......bs=500, epochs=5, lr=0.0001;, score=-0.653 total time=   2.9s\n",
      "[CV 5/5] END ......bs=500, epochs=5, lr=0.0001;, score=-0.602 total time=   2.9s\n",
      "[CV 1/5] END ..........bs=500, epochs=10, lr=1;, score=-0.609 total time=   5.6s\n",
      "[CV 2/5] END ..........bs=500, epochs=10, lr=1;, score=-0.581 total time=   5.6s\n",
      "[CV 3/5] END ..........bs=500, epochs=10, lr=1;, score=-0.635 total time=   5.6s\n",
      "[CV 4/5] END ..........bs=500, epochs=10, lr=1;, score=-0.647 total time=   5.6s\n",
      "[CV 5/5] END ..........bs=500, epochs=10, lr=1;, score=-0.597 total time=   5.5s\n",
      "[CV 1/5] END ........bs=500, epochs=10, lr=0.1;, score=-0.621 total time=   5.6s\n",
      "[CV 2/5] END ........bs=500, epochs=10, lr=0.1;, score=-0.584 total time=   5.6s\n",
      "[CV 3/5] END ........bs=500, epochs=10, lr=0.1;, score=-0.636 total time=   5.6s\n",
      "[CV 4/5] END ........bs=500, epochs=10, lr=0.1;, score=-0.653 total time=   5.5s\n",
      "[CV 5/5] END ........bs=500, epochs=10, lr=0.1;, score=-0.602 total time=   5.6s\n",
      "[CV 1/5] END .......bs=500, epochs=10, lr=0.01;, score=-0.621 total time=   5.6s\n",
      "[CV 2/5] END .......bs=500, epochs=10, lr=0.01;, score=-0.584 total time=   5.7s\n",
      "[CV 3/5] END .......bs=500, epochs=10, lr=0.01;, score=-0.636 total time=   5.6s\n",
      "[CV 4/5] END .......bs=500, epochs=10, lr=0.01;, score=-0.653 total time=   5.6s\n",
      "[CV 5/5] END .......bs=500, epochs=10, lr=0.01;, score=-0.602 total time=   5.6s\n",
      "[CV 1/5] END ......bs=500, epochs=10, lr=0.001;, score=-0.621 total time=   5.6s\n",
      "[CV 2/5] END ......bs=500, epochs=10, lr=0.001;, score=-0.584 total time=   5.6s\n",
      "[CV 3/5] END ......bs=500, epochs=10, lr=0.001;, score=-0.636 total time=   5.7s\n",
      "[CV 4/5] END ......bs=500, epochs=10, lr=0.001;, score=-0.653 total time=   5.7s\n",
      "[CV 5/5] END ......bs=500, epochs=10, lr=0.001;, score=-0.602 total time=   5.7s\n",
      "[CV 1/5] END .....bs=500, epochs=10, lr=0.0001;, score=-0.621 total time=   5.6s\n",
      "[CV 2/5] END .....bs=500, epochs=10, lr=0.0001;, score=-0.584 total time=   5.7s\n",
      "[CV 3/5] END .....bs=500, epochs=10, lr=0.0001;, score=-0.636 total time=   5.7s\n",
      "[CV 4/5] END .....bs=500, epochs=10, lr=0.0001;, score=-0.653 total time=   5.6s\n",
      "[CV 5/5] END .....bs=500, epochs=10, lr=0.0001;, score=-0.602 total time=   5.6s\n"
     ]
    },
    {
     "data": {
      "text/html": [
       "<style>#sk-container-id-1 {color: black;background-color: white;}#sk-container-id-1 pre{padding: 0;}#sk-container-id-1 div.sk-toggleable {background-color: white;}#sk-container-id-1 label.sk-toggleable__label {cursor: pointer;display: block;width: 100%;margin-bottom: 0;padding: 0.3em;box-sizing: border-box;text-align: center;}#sk-container-id-1 label.sk-toggleable__label-arrow:before {content: \"▸\";float: left;margin-right: 0.25em;color: #696969;}#sk-container-id-1 label.sk-toggleable__label-arrow:hover:before {color: black;}#sk-container-id-1 div.sk-estimator:hover label.sk-toggleable__label-arrow:before {color: black;}#sk-container-id-1 div.sk-toggleable__content {max-height: 0;max-width: 0;overflow: hidden;text-align: left;background-color: #f0f8ff;}#sk-container-id-1 div.sk-toggleable__content pre {margin: 0.2em;color: black;border-radius: 0.25em;background-color: #f0f8ff;}#sk-container-id-1 input.sk-toggleable__control:checked~div.sk-toggleable__content {max-height: 200px;max-width: 100%;overflow: auto;}#sk-container-id-1 input.sk-toggleable__control:checked~label.sk-toggleable__label-arrow:before {content: \"▾\";}#sk-container-id-1 div.sk-estimator input.sk-toggleable__control:checked~label.sk-toggleable__label {background-color: #d4ebff;}#sk-container-id-1 div.sk-label input.sk-toggleable__control:checked~label.sk-toggleable__label {background-color: #d4ebff;}#sk-container-id-1 input.sk-hidden--visually {border: 0;clip: rect(1px 1px 1px 1px);clip: rect(1px, 1px, 1px, 1px);height: 1px;margin: -1px;overflow: hidden;padding: 0;position: absolute;width: 1px;}#sk-container-id-1 div.sk-estimator {font-family: monospace;background-color: #f0f8ff;border: 1px dotted black;border-radius: 0.25em;box-sizing: border-box;margin-bottom: 0.5em;}#sk-container-id-1 div.sk-estimator:hover {background-color: #d4ebff;}#sk-container-id-1 div.sk-parallel-item::after {content: \"\";width: 100%;border-bottom: 1px solid gray;flex-grow: 1;}#sk-container-id-1 div.sk-label:hover label.sk-toggleable__label {background-color: #d4ebff;}#sk-container-id-1 div.sk-serial::before {content: \"\";position: absolute;border-left: 1px solid gray;box-sizing: border-box;top: 0;bottom: 0;left: 50%;z-index: 0;}#sk-container-id-1 div.sk-serial {display: flex;flex-direction: column;align-items: center;background-color: white;padding-right: 0.2em;padding-left: 0.2em;position: relative;}#sk-container-id-1 div.sk-item {position: relative;z-index: 1;}#sk-container-id-1 div.sk-parallel {display: flex;align-items: stretch;justify-content: center;background-color: white;position: relative;}#sk-container-id-1 div.sk-item::before, #sk-container-id-1 div.sk-parallel-item::before {content: \"\";position: absolute;border-left: 1px solid gray;box-sizing: border-box;top: 0;bottom: 0;left: 50%;z-index: -1;}#sk-container-id-1 div.sk-parallel-item {display: flex;flex-direction: column;z-index: 1;position: relative;background-color: white;}#sk-container-id-1 div.sk-parallel-item:first-child::after {align-self: flex-end;width: 50%;}#sk-container-id-1 div.sk-parallel-item:last-child::after {align-self: flex-start;width: 50%;}#sk-container-id-1 div.sk-parallel-item:only-child::after {width: 0;}#sk-container-id-1 div.sk-dashed-wrapped {border: 1px dashed gray;margin: 0 0.4em 0.5em 0.4em;box-sizing: border-box;padding-bottom: 0.4em;background-color: white;}#sk-container-id-1 div.sk-label label {font-family: monospace;font-weight: bold;display: inline-block;line-height: 1.2em;}#sk-container-id-1 div.sk-label-container {text-align: center;}#sk-container-id-1 div.sk-container {/* jupyter's `normalize.less` sets `[hidden] { display: none; }` but bootstrap.min.css set `[hidden] { display: none !important; }` so we also need the `!important` here to be able to override the default hidden behavior on the sphinx rendered scikit-learn.org. See: https://github.com/scikit-learn/scikit-learn/issues/21755 */display: inline-block !important;position: relative;}#sk-container-id-1 div.sk-text-repr-fallback {display: none;}</style><div id=\"sk-container-id-1\" class=\"sk-top-container\"><div class=\"sk-text-repr-fallback\"><pre>GridSearchCV(estimator=Log_Reg(),\n",
       "             param_grid={&#x27;bs&#x27;: [10, 100, 200, 500], &#x27;epochs&#x27;: [5, 10],\n",
       "                         &#x27;lr&#x27;: [1, 0.1, 0.01, 0.001, 0.0001]},\n",
       "             verbose=3)</pre><b>In a Jupyter environment, please rerun this cell to show the HTML representation or trust the notebook. <br />On GitHub, the HTML representation is unable to render, please try loading this page with nbviewer.org.</b></div><div class=\"sk-container\" hidden><div class=\"sk-item sk-dashed-wrapped\"><div class=\"sk-label-container\"><div class=\"sk-label sk-toggleable\"><input class=\"sk-toggleable__control sk-hidden--visually\" id=\"sk-estimator-id-1\" type=\"checkbox\" ><label for=\"sk-estimator-id-1\" class=\"sk-toggleable__label sk-toggleable__label-arrow\">GridSearchCV</label><div class=\"sk-toggleable__content\"><pre>GridSearchCV(estimator=Log_Reg(),\n",
       "             param_grid={&#x27;bs&#x27;: [10, 100, 200, 500], &#x27;epochs&#x27;: [5, 10],\n",
       "                         &#x27;lr&#x27;: [1, 0.1, 0.01, 0.001, 0.0001]},\n",
       "             verbose=3)</pre></div></div></div><div class=\"sk-parallel\"><div class=\"sk-parallel-item\"><div class=\"sk-item\"><div class=\"sk-label-container\"><div class=\"sk-label sk-toggleable\"><input class=\"sk-toggleable__control sk-hidden--visually\" id=\"sk-estimator-id-2\" type=\"checkbox\" ><label for=\"sk-estimator-id-2\" class=\"sk-toggleable__label sk-toggleable__label-arrow\">estimator: Log_Reg</label><div class=\"sk-toggleable__content\"><pre>Log_Reg()</pre></div></div></div><div class=\"sk-serial\"><div class=\"sk-item\"><div class=\"sk-estimator sk-toggleable\"><input class=\"sk-toggleable__control sk-hidden--visually\" id=\"sk-estimator-id-3\" type=\"checkbox\" ><label for=\"sk-estimator-id-3\" class=\"sk-toggleable__label sk-toggleable__label-arrow\">Log_Reg</label><div class=\"sk-toggleable__content\"><pre>Log_Reg()</pre></div></div></div></div></div></div></div></div></div></div>"
      ],
      "text/plain": [
       "GridSearchCV(estimator=Log_Reg(),\n",
       "             param_grid={'bs': [10, 100, 200, 500], 'epochs': [5, 10],\n",
       "                         'lr': [1, 0.1, 0.01, 0.001, 0.0001]},\n",
       "             verbose=3)"
      ]
     },
     "execution_count": 21,
     "metadata": {},
     "output_type": "execute_result"
    }
   ],
   "source": [
    "## Log_Reg hyperparameters tuning\n",
    "from sklearn.model_selection import GridSearchCV\n",
    " \n",
    "# defining parameter range\n",
    "param_grid_rl = {'epochs': [5,10],\n",
    "              'lr': [1, 0.1, 0.01, 0.001, 0.0001],\n",
    "              'bs': [10, 100, 200, 500]}\n",
    " \n",
    "grid_rl= GridSearchCV(Log_Reg(), param_grid_rl, refit = True, verbose = 3)\n",
    " \n",
    "# fitting the model for grid search\n",
    "grid_rl.fit(X_train, y_train)"
   ]
  },
  {
   "cell_type": "code",
   "execution_count": 28,
   "metadata": {},
   "outputs": [
    {
     "name": "stdout",
     "output_type": "stream",
     "text": [
      "Log_Reg(bs=10, epochs=10, lr=1)\n"
     ]
    }
   ],
   "source": [
    "## best parameters for Log_reg\n",
    "grid_rl.best_params_\n",
    "grid_rl.best_score_\n",
    "print(grid_rl.best_estimator_)\n",
    "pred = grid_rl.predict(X_test)\n"
   ]
  },
  {
   "cell_type": "code",
   "execution_count": 29,
   "metadata": {},
   "outputs": [
    {
     "name": "stdout",
     "output_type": "stream",
     "text": [
      "Accuracy of log: 0.7355251672970614\n"
     ]
    }
   ],
   "source": [
    "print(\"Accuracy of log:\", metrics.accuracy_score(y_test, pred))"
   ]
  },
  {
   "cell_type": "code",
   "execution_count": 36,
   "metadata": {},
   "outputs": [
    {
     "name": "stdout",
     "output_type": "stream",
     "text": [
      "Fitting 5 folds for each of 30 candidates, totalling 150 fits\n",
      "[CV 1/5] END .gamma=auto, kernel=linear, nu=0.1;, score=0.611 total time= 4.3min\n",
      "[CV 2/5] END .gamma=auto, kernel=linear, nu=0.1;, score=0.613 total time= 5.5min\n",
      "[CV 3/5] END .gamma=auto, kernel=linear, nu=0.1;, score=0.617 total time= 6.1min\n",
      "[CV 4/5] END .gamma=auto, kernel=linear, nu=0.1;, score=0.613 total time= 4.3min\n",
      "[CV 5/5] END .gamma=auto, kernel=linear, nu=0.1;, score=0.606 total time= 4.6min\n",
      "[CV 1/5] END .gamma=auto, kernel=linear, nu=0.3;, score=0.662 total time= 4.1min\n",
      "[CV 2/5] END .gamma=auto, kernel=linear, nu=0.3;, score=0.660 total time= 4.0min\n",
      "[CV 3/5] END .gamma=auto, kernel=linear, nu=0.3;, score=0.649 total time= 3.3min\n",
      "[CV 4/5] END .gamma=auto, kernel=linear, nu=0.3;, score=0.675 total time= 3.3min\n",
      "[CV 5/5] END .gamma=auto, kernel=linear, nu=0.3;, score=0.664 total time= 3.3min\n",
      "[CV 1/5] END .gamma=auto, kernel=linear, nu=0.6;, score=0.725 total time= 4.1min\n",
      "[CV 2/5] END .gamma=auto, kernel=linear, nu=0.6;, score=0.725 total time= 4.1min\n",
      "[CV 3/5] END .gamma=auto, kernel=linear, nu=0.6;, score=0.701 total time= 4.1min\n",
      "[CV 4/5] END .gamma=auto, kernel=linear, nu=0.6;, score=0.730 total time= 4.1min\n",
      "[CV 5/5] END .gamma=auto, kernel=linear, nu=0.6;, score=0.725 total time= 4.1min\n",
      "[CV 1/5] END .gamma=auto, kernel=linear, nu=0.7;, score=0.719 total time= 4.1min\n",
      "[CV 2/5] END .gamma=auto, kernel=linear, nu=0.7;, score=0.718 total time= 4.1min\n",
      "[CV 3/5] END .gamma=auto, kernel=linear, nu=0.7;, score=0.698 total time= 4.2min\n",
      "[CV 4/5] END .gamma=auto, kernel=linear, nu=0.7;, score=0.714 total time= 4.1min\n",
      "[CV 5/5] END .gamma=auto, kernel=linear, nu=0.7;, score=0.704 total time= 4.1min\n",
      "[CV 1/5] END ...gamma=auto, kernel=linear, nu=0.9;, score=nan total time=   0.4s\n",
      "[CV 2/5] END ...gamma=auto, kernel=linear, nu=0.9;, score=nan total time=   0.4s\n",
      "[CV 3/5] END ...gamma=auto, kernel=linear, nu=0.9;, score=nan total time=   0.4s\n",
      "[CV 4/5] END ...gamma=auto, kernel=linear, nu=0.9;, score=nan total time=   0.4s\n",
      "[CV 5/5] END ...gamma=auto, kernel=linear, nu=0.9;, score=nan total time=   0.4s\n",
      "[CV 1/5] END gamma=auto, kernel=sigmoid, nu=0.1;, score=0.653 total time=  26.2s\n",
      "[CV 2/5] END gamma=auto, kernel=sigmoid, nu=0.1;, score=0.343 total time=  26.1s\n",
      "[CV 3/5] END gamma=auto, kernel=sigmoid, nu=0.1;, score=0.350 total time=  26.1s\n",
      "[CV 4/5] END gamma=auto, kernel=sigmoid, nu=0.1;, score=0.348 total time=  26.1s\n",
      "[CV 5/5] END gamma=auto, kernel=sigmoid, nu=0.1;, score=0.362 total time=  26.2s\n",
      "[CV 1/5] END gamma=auto, kernel=sigmoid, nu=0.3;, score=0.319 total time= 1.3min\n",
      "[CV 2/5] END gamma=auto, kernel=sigmoid, nu=0.3;, score=0.613 total time= 1.3min\n",
      "[CV 3/5] END gamma=auto, kernel=sigmoid, nu=0.3;, score=0.680 total time= 1.3min\n",
      "[CV 4/5] END gamma=auto, kernel=sigmoid, nu=0.3;, score=0.696 total time= 1.3min\n",
      "[CV 5/5] END gamma=auto, kernel=sigmoid, nu=0.3;, score=0.678 total time= 1.3min\n",
      "[CV 1/5] END gamma=auto, kernel=sigmoid, nu=0.6;, score=0.691 total time= 2.8min\n",
      "[CV 2/5] END gamma=auto, kernel=sigmoid, nu=0.6;, score=0.673 total time= 2.9min\n",
      "[CV 3/5] END gamma=auto, kernel=sigmoid, nu=0.6;, score=0.696 total time= 2.9min\n",
      "[CV 4/5] END gamma=auto, kernel=sigmoid, nu=0.6;, score=0.669 total time= 2.9min\n",
      "[CV 5/5] END gamma=auto, kernel=sigmoid, nu=0.6;, score=0.698 total time= 2.9min\n",
      "[CV 1/5] END gamma=auto, kernel=sigmoid, nu=0.7;, score=0.725 total time= 3.4min\n",
      "[CV 2/5] END gamma=auto, kernel=sigmoid, nu=0.7;, score=0.725 total time= 3.4min\n",
      "[CV 3/5] END gamma=auto, kernel=sigmoid, nu=0.7;, score=0.698 total time= 3.4min\n",
      "[CV 4/5] END gamma=auto, kernel=sigmoid, nu=0.7;, score=0.679 total time= 3.4min\n",
      "[CV 5/5] END gamma=auto, kernel=sigmoid, nu=0.7;, score=0.710 total time= 3.4min\n",
      "[CV 1/5] END ..gamma=auto, kernel=sigmoid, nu=0.9;, score=nan total time=   0.4s\n",
      "[CV 2/5] END ..gamma=auto, kernel=sigmoid, nu=0.9;, score=nan total time=   0.4s\n",
      "[CV 3/5] END ..gamma=auto, kernel=sigmoid, nu=0.9;, score=nan total time=   0.4s\n",
      "[CV 4/5] END ..gamma=auto, kernel=sigmoid, nu=0.9;, score=nan total time=   0.4s\n",
      "[CV 5/5] END ..gamma=auto, kernel=sigmoid, nu=0.9;, score=nan total time=   0.4s\n",
      "[CV 1/5] END ...gamma=auto, kernel=poly, nu=0.1;, score=0.650 total time=  24.8s\n",
      "[CV 2/5] END ...gamma=auto, kernel=poly, nu=0.1;, score=0.460 total time=  24.8s\n",
      "[CV 3/5] END ...gamma=auto, kernel=poly, nu=0.1;, score=0.448 total time=  24.8s\n",
      "[CV 4/5] END ...gamma=auto, kernel=poly, nu=0.1;, score=0.463 total time=  24.8s\n",
      "[CV 5/5] END ...gamma=auto, kernel=poly, nu=0.1;, score=0.458 total time=  24.8s\n",
      "[CV 1/5] END ...gamma=auto, kernel=poly, nu=0.3;, score=0.656 total time= 1.2min\n",
      "[CV 2/5] END ...gamma=auto, kernel=poly, nu=0.3;, score=0.538 total time= 1.2min\n",
      "[CV 3/5] END ...gamma=auto, kernel=poly, nu=0.3;, score=0.654 total time= 1.2min\n",
      "[CV 4/5] END ...gamma=auto, kernel=poly, nu=0.3;, score=0.658 total time= 1.2min\n",
      "[CV 5/5] END ...gamma=auto, kernel=poly, nu=0.3;, score=0.657 total time= 1.2min\n",
      "[CV 1/5] END ...gamma=auto, kernel=poly, nu=0.6;, score=0.435 total time= 2.4min\n",
      "[CV 2/5] END ...gamma=auto, kernel=poly, nu=0.6;, score=0.624 total time= 2.4min\n",
      "[CV 3/5] END ...gamma=auto, kernel=poly, nu=0.6;, score=0.582 total time= 2.4min\n",
      "[CV 4/5] END ...gamma=auto, kernel=poly, nu=0.6;, score=0.617 total time= 2.4min\n",
      "[CV 5/5] END ...gamma=auto, kernel=poly, nu=0.6;, score=0.684 total time= 2.4min\n",
      "[CV 1/5] END ...gamma=auto, kernel=poly, nu=0.7;, score=0.619 total time= 2.8min\n",
      "[CV 2/5] END ...gamma=auto, kernel=poly, nu=0.7;, score=0.463 total time= 2.8min\n",
      "[CV 3/5] END ...gamma=auto, kernel=poly, nu=0.7;, score=0.571 total time= 2.8min\n",
      "[CV 4/5] END ...gamma=auto, kernel=poly, nu=0.7;, score=0.541 total time= 2.8min\n",
      "[CV 5/5] END ...gamma=auto, kernel=poly, nu=0.7;, score=0.476 total time= 2.8min\n",
      "[CV 1/5] END .....gamma=auto, kernel=poly, nu=0.9;, score=nan total time=   0.4s\n",
      "[CV 2/5] END .....gamma=auto, kernel=poly, nu=0.9;, score=nan total time=   0.4s\n",
      "[CV 3/5] END .....gamma=auto, kernel=poly, nu=0.9;, score=nan total time=   0.4s\n",
      "[CV 4/5] END .....gamma=auto, kernel=poly, nu=0.9;, score=nan total time=   0.4s\n",
      "[CV 5/5] END .....gamma=auto, kernel=poly, nu=0.9;, score=nan total time=   0.4s\n",
      "[CV 1/5] END gamma=scale, kernel=linear, nu=0.1;, score=0.611 total time= 3.5min\n",
      "[CV 2/5] END gamma=scale, kernel=linear, nu=0.1;, score=0.613 total time= 4.6min\n",
      "[CV 3/5] END gamma=scale, kernel=linear, nu=0.1;, score=0.617 total time= 5.1min\n",
      "[CV 4/5] END gamma=scale, kernel=linear, nu=0.1;, score=0.613 total time= 3.8min\n",
      "[CV 5/5] END gamma=scale, kernel=linear, nu=0.1;, score=0.606 total time= 4.1min\n",
      "[CV 1/5] END gamma=scale, kernel=linear, nu=0.3;, score=0.662 total time= 3.4min\n",
      "[CV 2/5] END gamma=scale, kernel=linear, nu=0.3;, score=0.660 total time= 3.3min\n",
      "[CV 3/5] END gamma=scale, kernel=linear, nu=0.3;, score=0.649 total time= 3.4min\n",
      "[CV 4/5] END gamma=scale, kernel=linear, nu=0.3;, score=0.675 total time= 3.4min\n",
      "[CV 5/5] END gamma=scale, kernel=linear, nu=0.3;, score=0.664 total time= 3.3min\n",
      "[CV 1/5] END gamma=scale, kernel=linear, nu=0.6;, score=0.725 total time= 4.1min\n",
      "[CV 2/5] END gamma=scale, kernel=linear, nu=0.6;, score=0.725 total time= 4.1min\n",
      "[CV 3/5] END gamma=scale, kernel=linear, nu=0.6;, score=0.701 total time= 4.1min\n",
      "[CV 4/5] END gamma=scale, kernel=linear, nu=0.6;, score=0.730 total time= 4.1min\n",
      "[CV 5/5] END gamma=scale, kernel=linear, nu=0.6;, score=0.725 total time= 4.0min\n",
      "[CV 1/5] END gamma=scale, kernel=linear, nu=0.7;, score=0.719 total time= 4.1min\n",
      "[CV 2/5] END gamma=scale, kernel=linear, nu=0.7;, score=0.718 total time= 4.2min\n",
      "[CV 3/5] END gamma=scale, kernel=linear, nu=0.7;, score=0.698 total time= 4.2min\n",
      "[CV 4/5] END gamma=scale, kernel=linear, nu=0.7;, score=0.714 total time= 4.2min\n",
      "[CV 5/5] END gamma=scale, kernel=linear, nu=0.7;, score=0.704 total time= 4.1min\n",
      "[CV 1/5] END ..gamma=scale, kernel=linear, nu=0.9;, score=nan total time=   0.7s\n",
      "[CV 2/5] END ..gamma=scale, kernel=linear, nu=0.9;, score=nan total time=   0.6s\n",
      "[CV 3/5] END ..gamma=scale, kernel=linear, nu=0.9;, score=nan total time=   0.6s\n",
      "[CV 4/5] END ..gamma=scale, kernel=linear, nu=0.9;, score=nan total time=   0.6s\n",
      "[CV 5/5] END ..gamma=scale, kernel=linear, nu=0.9;, score=nan total time=   0.7s\n",
      "[CV 1/5] END gamma=scale, kernel=sigmoid, nu=0.1;, score=0.420 total time= 1.4min\n",
      "[CV 2/5] END gamma=scale, kernel=sigmoid, nu=0.1;, score=0.427 total time= 1.5min\n",
      "[CV 3/5] END gamma=scale, kernel=sigmoid, nu=0.1;, score=0.431 total time= 1.5min\n",
      "[CV 4/5] END gamma=scale, kernel=sigmoid, nu=0.1;, score=0.421 total time= 1.4min\n",
      "[CV 5/5] END gamma=scale, kernel=sigmoid, nu=0.1;, score=0.428 total time= 1.5min\n",
      "[CV 1/5] END gamma=scale, kernel=sigmoid, nu=0.3;, score=0.376 total time= 2.7min\n",
      "[CV 2/5] END gamma=scale, kernel=sigmoid, nu=0.3;, score=0.382 total time= 2.7min\n",
      "[CV 3/5] END gamma=scale, kernel=sigmoid, nu=0.3;, score=0.392 total time= 2.6min\n",
      "[CV 4/5] END gamma=scale, kernel=sigmoid, nu=0.3;, score=0.369 total time= 2.7min\n",
      "[CV 5/5] END gamma=scale, kernel=sigmoid, nu=0.3;, score=0.382 total time= 2.8min\n",
      "[CV 1/5] END gamma=scale, kernel=sigmoid, nu=0.6;, score=0.721 total time= 4.0min\n",
      "[CV 2/5] END gamma=scale, kernel=sigmoid, nu=0.6;, score=0.724 total time= 4.0min\n",
      "[CV 3/5] END gamma=scale, kernel=sigmoid, nu=0.6;, score=0.698 total time= 4.0min\n",
      "[CV 4/5] END gamma=scale, kernel=sigmoid, nu=0.6;, score=0.728 total time= 4.0min\n",
      "[CV 5/5] END gamma=scale, kernel=sigmoid, nu=0.6;, score=0.717 total time= 4.0min\n",
      "[CV 1/5] END gamma=scale, kernel=sigmoid, nu=0.7;, score=0.716 total time= 4.1min\n",
      "[CV 2/5] END gamma=scale, kernel=sigmoid, nu=0.7;, score=0.718 total time= 4.1min\n",
      "[CV 3/5] END gamma=scale, kernel=sigmoid, nu=0.7;, score=0.697 total time=308.2min\n",
      "[CV 4/5] END gamma=scale, kernel=sigmoid, nu=0.7;, score=0.710 total time= 4.3min\n",
      "[CV 5/5] END gamma=scale, kernel=sigmoid, nu=0.7;, score=0.702 total time= 4.7min\n",
      "[CV 1/5] END .gamma=scale, kernel=sigmoid, nu=0.9;, score=nan total time=   0.7s\n",
      "[CV 2/5] END .gamma=scale, kernel=sigmoid, nu=0.9;, score=nan total time=   0.7s\n",
      "[CV 3/5] END .gamma=scale, kernel=sigmoid, nu=0.9;, score=nan total time=   0.7s\n",
      "[CV 4/5] END .gamma=scale, kernel=sigmoid, nu=0.9;, score=nan total time=   0.7s\n",
      "[CV 5/5] END .gamma=scale, kernel=sigmoid, nu=0.9;, score=nan total time=   0.7s\n",
      "[CV 1/5] END ..gamma=scale, kernel=poly, nu=0.1;, score=0.666 total time=12.7min\n",
      "[CV 2/5] END ..gamma=scale, kernel=poly, nu=0.1;, score=0.662 total time=13.0min\n",
      "[CV 3/5] END ..gamma=scale, kernel=poly, nu=0.1;, score=0.659 total time=11.6min\n",
      "[CV 4/5] END ..gamma=scale, kernel=poly, nu=0.1;, score=0.661 total time=11.7min\n",
      "[CV 5/5] END ..gamma=scale, kernel=poly, nu=0.1;, score=0.666 total time=11.0min\n",
      "[CV 1/5] END ..gamma=scale, kernel=poly, nu=0.3;, score=0.666 total time=11.6min\n",
      "[CV 2/5] END ..gamma=scale, kernel=poly, nu=0.3;, score=0.665 total time=12.3min\n",
      "[CV 3/5] END ..gamma=scale, kernel=poly, nu=0.3;, score=0.660 total time=51.6min\n",
      "[CV 4/5] END ..gamma=scale, kernel=poly, nu=0.3;, score=0.661 total time=13.8min\n",
      "[CV 5/5] END ..gamma=scale, kernel=poly, nu=0.3;, score=0.665 total time=13.5min\n",
      "[CV 1/5] END ..gamma=scale, kernel=poly, nu=0.6;, score=0.669 total time=13.7min\n",
      "[CV 2/5] END ..gamma=scale, kernel=poly, nu=0.6;, score=0.666 total time=13.4min\n",
      "[CV 3/5] END ..gamma=scale, kernel=poly, nu=0.6;, score=0.663 total time=13.5min\n",
      "[CV 4/5] END ..gamma=scale, kernel=poly, nu=0.6;, score=0.663 total time=13.2min\n",
      "[CV 5/5] END ..gamma=scale, kernel=poly, nu=0.6;, score=0.664 total time=13.5min\n",
      "[CV 1/5] END ..gamma=scale, kernel=poly, nu=0.7;, score=0.665 total time=12.3min\n",
      "[CV 2/5] END ..gamma=scale, kernel=poly, nu=0.7;, score=0.658 total time=12.2min\n",
      "[CV 3/5] END ..gamma=scale, kernel=poly, nu=0.7;, score=0.662 total time=12.7min\n",
      "[CV 4/5] END ..gamma=scale, kernel=poly, nu=0.7;, score=0.661 total time=13.4min\n",
      "[CV 5/5] END ..gamma=scale, kernel=poly, nu=0.7;, score=0.659 total time=13.5min\n",
      "[CV 1/5] END ....gamma=scale, kernel=poly, nu=0.9;, score=nan total time=   2.4s\n",
      "[CV 2/5] END ....gamma=scale, kernel=poly, nu=0.9;, score=nan total time=   2.3s\n",
      "[CV 3/5] END ....gamma=scale, kernel=poly, nu=0.9;, score=nan total time=   2.3s\n",
      "[CV 4/5] END ....gamma=scale, kernel=poly, nu=0.9;, score=nan total time=   2.3s\n",
      "[CV 5/5] END ....gamma=scale, kernel=poly, nu=0.9;, score=nan total time=   2.3s\n"
     ]
    },
    {
     "name": "stderr",
     "output_type": "stream",
     "text": [
      "c:\\Users\\Pin Nean\\AppData\\Local\\Programs\\Python\\Python39\\lib\\site-packages\\sklearn\\model_selection\\_validation.py:378: FitFailedWarning: \n",
      "30 fits failed out of a total of 150.\n",
      "The score on these train-test partitions for these parameters will be set to nan.\n",
      "If these failures are not expected, you can try to debug them by setting error_score='raise'.\n",
      "\n",
      "Below are more details about the failures:\n",
      "--------------------------------------------------------------------------------\n",
      "30 fits failed with the following error:\n",
      "Traceback (most recent call last):\n",
      "  File \"c:\\Users\\Pin Nean\\AppData\\Local\\Programs\\Python\\Python39\\lib\\site-packages\\sklearn\\model_selection\\_validation.py\", line 686, in _fit_and_score\n",
      "    estimator.fit(X_train, y_train, **fit_params)\n",
      "  File \"c:\\Users\\Pin Nean\\AppData\\Local\\Programs\\Python\\Python39\\lib\\site-packages\\sklearn\\svm\\_base.py\", line 251, in fit\n",
      "    fit(X, y, sample_weight, solver_type, kernel, random_seed=seed)\n",
      "  File \"c:\\Users\\Pin Nean\\AppData\\Local\\Programs\\Python\\Python39\\lib\\site-packages\\sklearn\\svm\\_base.py\", line 333, in _dense_fit\n",
      "    ) = libsvm.fit(\n",
      "  File \"sklearn\\svm\\_libsvm.pyx\", line 192, in sklearn.svm._libsvm.fit\n",
      "ValueError: specified nu is infeasible\n",
      "\n",
      "  warnings.warn(some_fits_failed_message, FitFailedWarning)\n",
      "c:\\Users\\Pin Nean\\AppData\\Local\\Programs\\Python\\Python39\\lib\\site-packages\\sklearn\\model_selection\\_search.py:953: UserWarning: One or more of the test scores are non-finite: [0.61227903 0.662181   0.72132044 0.71055389        nan 0.41105886\n",
      " 0.59694934 0.68531364 0.70757001        nan 0.49573589 0.63250684\n",
      " 0.58835512 0.53386093        nan 0.61227903 0.662181   0.72132044\n",
      " 0.71055389        nan 0.42532946 0.3800831  0.71739216 0.70851697\n",
      "        nan 0.66290809 0.66341718 0.66494471 0.66101691        nan]\n",
      "  warnings.warn(\n"
     ]
    },
    {
     "data": {
      "text/html": [
       "<style>#sk-container-id-3 {color: black;background-color: white;}#sk-container-id-3 pre{padding: 0;}#sk-container-id-3 div.sk-toggleable {background-color: white;}#sk-container-id-3 label.sk-toggleable__label {cursor: pointer;display: block;width: 100%;margin-bottom: 0;padding: 0.3em;box-sizing: border-box;text-align: center;}#sk-container-id-3 label.sk-toggleable__label-arrow:before {content: \"▸\";float: left;margin-right: 0.25em;color: #696969;}#sk-container-id-3 label.sk-toggleable__label-arrow:hover:before {color: black;}#sk-container-id-3 div.sk-estimator:hover label.sk-toggleable__label-arrow:before {color: black;}#sk-container-id-3 div.sk-toggleable__content {max-height: 0;max-width: 0;overflow: hidden;text-align: left;background-color: #f0f8ff;}#sk-container-id-3 div.sk-toggleable__content pre {margin: 0.2em;color: black;border-radius: 0.25em;background-color: #f0f8ff;}#sk-container-id-3 input.sk-toggleable__control:checked~div.sk-toggleable__content {max-height: 200px;max-width: 100%;overflow: auto;}#sk-container-id-3 input.sk-toggleable__control:checked~label.sk-toggleable__label-arrow:before {content: \"▾\";}#sk-container-id-3 div.sk-estimator input.sk-toggleable__control:checked~label.sk-toggleable__label {background-color: #d4ebff;}#sk-container-id-3 div.sk-label input.sk-toggleable__control:checked~label.sk-toggleable__label {background-color: #d4ebff;}#sk-container-id-3 input.sk-hidden--visually {border: 0;clip: rect(1px 1px 1px 1px);clip: rect(1px, 1px, 1px, 1px);height: 1px;margin: -1px;overflow: hidden;padding: 0;position: absolute;width: 1px;}#sk-container-id-3 div.sk-estimator {font-family: monospace;background-color: #f0f8ff;border: 1px dotted black;border-radius: 0.25em;box-sizing: border-box;margin-bottom: 0.5em;}#sk-container-id-3 div.sk-estimator:hover {background-color: #d4ebff;}#sk-container-id-3 div.sk-parallel-item::after {content: \"\";width: 100%;border-bottom: 1px solid gray;flex-grow: 1;}#sk-container-id-3 div.sk-label:hover label.sk-toggleable__label {background-color: #d4ebff;}#sk-container-id-3 div.sk-serial::before {content: \"\";position: absolute;border-left: 1px solid gray;box-sizing: border-box;top: 0;bottom: 0;left: 50%;z-index: 0;}#sk-container-id-3 div.sk-serial {display: flex;flex-direction: column;align-items: center;background-color: white;padding-right: 0.2em;padding-left: 0.2em;position: relative;}#sk-container-id-3 div.sk-item {position: relative;z-index: 1;}#sk-container-id-3 div.sk-parallel {display: flex;align-items: stretch;justify-content: center;background-color: white;position: relative;}#sk-container-id-3 div.sk-item::before, #sk-container-id-3 div.sk-parallel-item::before {content: \"\";position: absolute;border-left: 1px solid gray;box-sizing: border-box;top: 0;bottom: 0;left: 50%;z-index: -1;}#sk-container-id-3 div.sk-parallel-item {display: flex;flex-direction: column;z-index: 1;position: relative;background-color: white;}#sk-container-id-3 div.sk-parallel-item:first-child::after {align-self: flex-end;width: 50%;}#sk-container-id-3 div.sk-parallel-item:last-child::after {align-self: flex-start;width: 50%;}#sk-container-id-3 div.sk-parallel-item:only-child::after {width: 0;}#sk-container-id-3 div.sk-dashed-wrapped {border: 1px dashed gray;margin: 0 0.4em 0.5em 0.4em;box-sizing: border-box;padding-bottom: 0.4em;background-color: white;}#sk-container-id-3 div.sk-label label {font-family: monospace;font-weight: bold;display: inline-block;line-height: 1.2em;}#sk-container-id-3 div.sk-label-container {text-align: center;}#sk-container-id-3 div.sk-container {/* jupyter's `normalize.less` sets `[hidden] { display: none; }` but bootstrap.min.css set `[hidden] { display: none !important; }` so we also need the `!important` here to be able to override the default hidden behavior on the sphinx rendered scikit-learn.org. See: https://github.com/scikit-learn/scikit-learn/issues/21755 */display: inline-block !important;position: relative;}#sk-container-id-3 div.sk-text-repr-fallback {display: none;}</style><div id=\"sk-container-id-3\" class=\"sk-top-container\"><div class=\"sk-text-repr-fallback\"><pre>GridSearchCV(estimator=NuSVC(),\n",
       "             param_grid={&#x27;gamma&#x27;: [&#x27;auto&#x27;, &#x27;scale&#x27;],\n",
       "                         &#x27;kernel&#x27;: [&#x27;linear&#x27;, &#x27;sigmoid&#x27;, &#x27;poly&#x27;],\n",
       "                         &#x27;nu&#x27;: [0.1, 0.3, 0.6, 0.7, 0.9]},\n",
       "             verbose=3)</pre><b>In a Jupyter environment, please rerun this cell to show the HTML representation or trust the notebook. <br />On GitHub, the HTML representation is unable to render, please try loading this page with nbviewer.org.</b></div><div class=\"sk-container\" hidden><div class=\"sk-item sk-dashed-wrapped\"><div class=\"sk-label-container\"><div class=\"sk-label sk-toggleable\"><input class=\"sk-toggleable__control sk-hidden--visually\" id=\"sk-estimator-id-5\" type=\"checkbox\" ><label for=\"sk-estimator-id-5\" class=\"sk-toggleable__label sk-toggleable__label-arrow\">GridSearchCV</label><div class=\"sk-toggleable__content\"><pre>GridSearchCV(estimator=NuSVC(),\n",
       "             param_grid={&#x27;gamma&#x27;: [&#x27;auto&#x27;, &#x27;scale&#x27;],\n",
       "                         &#x27;kernel&#x27;: [&#x27;linear&#x27;, &#x27;sigmoid&#x27;, &#x27;poly&#x27;],\n",
       "                         &#x27;nu&#x27;: [0.1, 0.3, 0.6, 0.7, 0.9]},\n",
       "             verbose=3)</pre></div></div></div><div class=\"sk-parallel\"><div class=\"sk-parallel-item\"><div class=\"sk-item\"><div class=\"sk-label-container\"><div class=\"sk-label sk-toggleable\"><input class=\"sk-toggleable__control sk-hidden--visually\" id=\"sk-estimator-id-6\" type=\"checkbox\" ><label for=\"sk-estimator-id-6\" class=\"sk-toggleable__label sk-toggleable__label-arrow\">estimator: NuSVC</label><div class=\"sk-toggleable__content\"><pre>NuSVC()</pre></div></div></div><div class=\"sk-serial\"><div class=\"sk-item\"><div class=\"sk-estimator sk-toggleable\"><input class=\"sk-toggleable__control sk-hidden--visually\" id=\"sk-estimator-id-7\" type=\"checkbox\" ><label for=\"sk-estimator-id-7\" class=\"sk-toggleable__label sk-toggleable__label-arrow\">NuSVC</label><div class=\"sk-toggleable__content\"><pre>NuSVC()</pre></div></div></div></div></div></div></div></div></div></div>"
      ],
      "text/plain": [
       "GridSearchCV(estimator=NuSVC(),\n",
       "             param_grid={'gamma': ['auto', 'scale'],\n",
       "                         'kernel': ['linear', 'sigmoid', 'poly'],\n",
       "                         'nu': [0.1, 0.3, 0.6, 0.7, 0.9]},\n",
       "             verbose=3)"
      ]
     },
     "execution_count": 36,
     "metadata": {},
     "output_type": "execute_result"
    }
   ],
   "source": [
    "# NuSVC hyperparameters tuning\n",
    "param_grid_nu = {'kernel': ['linear', 'sigmoid', 'poly'],\n",
    "              'nu': [0.1, 0.3, 0.6, 0.7, 0.9],\n",
    "              'gamma':['auto','scale']}\n",
    " \n",
    "grid_nu= GridSearchCV(NuSVC(), param_grid_nu, refit = True, verbose = 3)\n",
    " \n",
    "# fitting the model for grid search\n",
    "grid_nu.fit(X_train, y_train)"
   ]
  },
  {
   "cell_type": "code",
   "execution_count": 43,
   "metadata": {},
   "outputs": [
    {
     "data": {
      "text/plain": [
       "{'gamma': 'auto', 'kernel': 'linear', 'nu': 0.6}"
      ]
     },
     "execution_count": 43,
     "metadata": {},
     "output_type": "execute_result"
    }
   ],
   "source": [
    "grid_nu.best_params_"
   ]
  },
  {
   "cell_type": "code",
   "execution_count": 42,
   "metadata": {},
   "outputs": [
    {
     "data": {
      "text/html": [
       "<style>#sk-container-id-6 {color: black;background-color: white;}#sk-container-id-6 pre{padding: 0;}#sk-container-id-6 div.sk-toggleable {background-color: white;}#sk-container-id-6 label.sk-toggleable__label {cursor: pointer;display: block;width: 100%;margin-bottom: 0;padding: 0.3em;box-sizing: border-box;text-align: center;}#sk-container-id-6 label.sk-toggleable__label-arrow:before {content: \"▸\";float: left;margin-right: 0.25em;color: #696969;}#sk-container-id-6 label.sk-toggleable__label-arrow:hover:before {color: black;}#sk-container-id-6 div.sk-estimator:hover label.sk-toggleable__label-arrow:before {color: black;}#sk-container-id-6 div.sk-toggleable__content {max-height: 0;max-width: 0;overflow: hidden;text-align: left;background-color: #f0f8ff;}#sk-container-id-6 div.sk-toggleable__content pre {margin: 0.2em;color: black;border-radius: 0.25em;background-color: #f0f8ff;}#sk-container-id-6 input.sk-toggleable__control:checked~div.sk-toggleable__content {max-height: 200px;max-width: 100%;overflow: auto;}#sk-container-id-6 input.sk-toggleable__control:checked~label.sk-toggleable__label-arrow:before {content: \"▾\";}#sk-container-id-6 div.sk-estimator input.sk-toggleable__control:checked~label.sk-toggleable__label {background-color: #d4ebff;}#sk-container-id-6 div.sk-label input.sk-toggleable__control:checked~label.sk-toggleable__label {background-color: #d4ebff;}#sk-container-id-6 input.sk-hidden--visually {border: 0;clip: rect(1px 1px 1px 1px);clip: rect(1px, 1px, 1px, 1px);height: 1px;margin: -1px;overflow: hidden;padding: 0;position: absolute;width: 1px;}#sk-container-id-6 div.sk-estimator {font-family: monospace;background-color: #f0f8ff;border: 1px dotted black;border-radius: 0.25em;box-sizing: border-box;margin-bottom: 0.5em;}#sk-container-id-6 div.sk-estimator:hover {background-color: #d4ebff;}#sk-container-id-6 div.sk-parallel-item::after {content: \"\";width: 100%;border-bottom: 1px solid gray;flex-grow: 1;}#sk-container-id-6 div.sk-label:hover label.sk-toggleable__label {background-color: #d4ebff;}#sk-container-id-6 div.sk-serial::before {content: \"\";position: absolute;border-left: 1px solid gray;box-sizing: border-box;top: 0;bottom: 0;left: 50%;z-index: 0;}#sk-container-id-6 div.sk-serial {display: flex;flex-direction: column;align-items: center;background-color: white;padding-right: 0.2em;padding-left: 0.2em;position: relative;}#sk-container-id-6 div.sk-item {position: relative;z-index: 1;}#sk-container-id-6 div.sk-parallel {display: flex;align-items: stretch;justify-content: center;background-color: white;position: relative;}#sk-container-id-6 div.sk-item::before, #sk-container-id-6 div.sk-parallel-item::before {content: \"\";position: absolute;border-left: 1px solid gray;box-sizing: border-box;top: 0;bottom: 0;left: 50%;z-index: -1;}#sk-container-id-6 div.sk-parallel-item {display: flex;flex-direction: column;z-index: 1;position: relative;background-color: white;}#sk-container-id-6 div.sk-parallel-item:first-child::after {align-self: flex-end;width: 50%;}#sk-container-id-6 div.sk-parallel-item:last-child::after {align-self: flex-start;width: 50%;}#sk-container-id-6 div.sk-parallel-item:only-child::after {width: 0;}#sk-container-id-6 div.sk-dashed-wrapped {border: 1px dashed gray;margin: 0 0.4em 0.5em 0.4em;box-sizing: border-box;padding-bottom: 0.4em;background-color: white;}#sk-container-id-6 div.sk-label label {font-family: monospace;font-weight: bold;display: inline-block;line-height: 1.2em;}#sk-container-id-6 div.sk-label-container {text-align: center;}#sk-container-id-6 div.sk-container {/* jupyter's `normalize.less` sets `[hidden] { display: none; }` but bootstrap.min.css set `[hidden] { display: none !important; }` so we also need the `!important` here to be able to override the default hidden behavior on the sphinx rendered scikit-learn.org. See: https://github.com/scikit-learn/scikit-learn/issues/21755 */display: inline-block !important;position: relative;}#sk-container-id-6 div.sk-text-repr-fallback {display: none;}</style><div id=\"sk-container-id-6\" class=\"sk-top-container\"><div class=\"sk-text-repr-fallback\"><pre>NuSVC(gamma=&#x27;auto&#x27;, kernel=&#x27;linear&#x27;, nu=0.6)</pre><b>In a Jupyter environment, please rerun this cell to show the HTML representation or trust the notebook. <br />On GitHub, the HTML representation is unable to render, please try loading this page with nbviewer.org.</b></div><div class=\"sk-container\" hidden><div class=\"sk-item\"><div class=\"sk-estimator sk-toggleable\"><input class=\"sk-toggleable__control sk-hidden--visually\" id=\"sk-estimator-id-10\" type=\"checkbox\" checked><label for=\"sk-estimator-id-10\" class=\"sk-toggleable__label sk-toggleable__label-arrow\">NuSVC</label><div class=\"sk-toggleable__content\"><pre>NuSVC(gamma=&#x27;auto&#x27;, kernel=&#x27;linear&#x27;, nu=0.6)</pre></div></div></div></div></div>"
      ],
      "text/plain": [
       "NuSVC(gamma='auto', kernel='linear', nu=0.6)"
      ]
     },
     "execution_count": 42,
     "metadata": {},
     "output_type": "execute_result"
    }
   ],
   "source": [
    "grid_nu.best_estimator_"
   ]
  },
  {
   "cell_type": "code",
   "execution_count": 38,
   "metadata": {},
   "outputs": [],
   "source": [
    "# 3. Initializing classifiers\n",
    "# Initializing SVC\n",
    "classifier1 = SVC(C = 1, gamma = 1, kernel = \"linear\")\n",
    "\n",
    "\n",
    "# Initialing Nu Support Vector classifier\n",
    "classifier3 = NuSVC(gamma='auto', kernel = \"linear\", nu = 0.6)\n",
    "\n",
    "\n",
    "classifier5 = Log_Reg(bs=10, epochs=500, lr=0.01)\n",
    "# from sklearn.linear_model import LogisticRegression\n"
   ]
  },
  {
   "cell_type": "code",
   "execution_count": 27,
   "metadata": {},
   "outputs": [],
   "source": [
    "# 4. Stacking Classifier                          #\n",
    "\n",
    "from distutils.log import Log\n",
    "\n",
    "\n",
    "sclf = StackingCVClassifier(classifiers = [classifier5, classifier3],\n",
    "                            shuffle = False,\n",
    "                            cv = 5,\n",
    "                            meta_classifier = classifier1)"
   ]
  },
  {
   "cell_type": "code",
   "execution_count": 28,
   "metadata": {},
   "outputs": [
    {
     "data": {
      "text/html": [
       "<style>#sk-container-id-5 {color: black;background-color: white;}#sk-container-id-5 pre{padding: 0;}#sk-container-id-5 div.sk-toggleable {background-color: white;}#sk-container-id-5 label.sk-toggleable__label {cursor: pointer;display: block;width: 100%;margin-bottom: 0;padding: 0.3em;box-sizing: border-box;text-align: center;}#sk-container-id-5 label.sk-toggleable__label-arrow:before {content: \"▸\";float: left;margin-right: 0.25em;color: #696969;}#sk-container-id-5 label.sk-toggleable__label-arrow:hover:before {color: black;}#sk-container-id-5 div.sk-estimator:hover label.sk-toggleable__label-arrow:before {color: black;}#sk-container-id-5 div.sk-toggleable__content {max-height: 0;max-width: 0;overflow: hidden;text-align: left;background-color: #f0f8ff;}#sk-container-id-5 div.sk-toggleable__content pre {margin: 0.2em;color: black;border-radius: 0.25em;background-color: #f0f8ff;}#sk-container-id-5 input.sk-toggleable__control:checked~div.sk-toggleable__content {max-height: 200px;max-width: 100%;overflow: auto;}#sk-container-id-5 input.sk-toggleable__control:checked~label.sk-toggleable__label-arrow:before {content: \"▾\";}#sk-container-id-5 div.sk-estimator input.sk-toggleable__control:checked~label.sk-toggleable__label {background-color: #d4ebff;}#sk-container-id-5 div.sk-label input.sk-toggleable__control:checked~label.sk-toggleable__label {background-color: #d4ebff;}#sk-container-id-5 input.sk-hidden--visually {border: 0;clip: rect(1px 1px 1px 1px);clip: rect(1px, 1px, 1px, 1px);height: 1px;margin: -1px;overflow: hidden;padding: 0;position: absolute;width: 1px;}#sk-container-id-5 div.sk-estimator {font-family: monospace;background-color: #f0f8ff;border: 1px dotted black;border-radius: 0.25em;box-sizing: border-box;margin-bottom: 0.5em;}#sk-container-id-5 div.sk-estimator:hover {background-color: #d4ebff;}#sk-container-id-5 div.sk-parallel-item::after {content: \"\";width: 100%;border-bottom: 1px solid gray;flex-grow: 1;}#sk-container-id-5 div.sk-label:hover label.sk-toggleable__label {background-color: #d4ebff;}#sk-container-id-5 div.sk-serial::before {content: \"\";position: absolute;border-left: 1px solid gray;box-sizing: border-box;top: 0;bottom: 0;left: 50%;z-index: 0;}#sk-container-id-5 div.sk-serial {display: flex;flex-direction: column;align-items: center;background-color: white;padding-right: 0.2em;padding-left: 0.2em;position: relative;}#sk-container-id-5 div.sk-item {position: relative;z-index: 1;}#sk-container-id-5 div.sk-parallel {display: flex;align-items: stretch;justify-content: center;background-color: white;position: relative;}#sk-container-id-5 div.sk-item::before, #sk-container-id-5 div.sk-parallel-item::before {content: \"\";position: absolute;border-left: 1px solid gray;box-sizing: border-box;top: 0;bottom: 0;left: 50%;z-index: -1;}#sk-container-id-5 div.sk-parallel-item {display: flex;flex-direction: column;z-index: 1;position: relative;background-color: white;}#sk-container-id-5 div.sk-parallel-item:first-child::after {align-self: flex-end;width: 50%;}#sk-container-id-5 div.sk-parallel-item:last-child::after {align-self: flex-start;width: 50%;}#sk-container-id-5 div.sk-parallel-item:only-child::after {width: 0;}#sk-container-id-5 div.sk-dashed-wrapped {border: 1px dashed gray;margin: 0 0.4em 0.5em 0.4em;box-sizing: border-box;padding-bottom: 0.4em;background-color: white;}#sk-container-id-5 div.sk-label label {font-family: monospace;font-weight: bold;display: inline-block;line-height: 1.2em;}#sk-container-id-5 div.sk-label-container {text-align: center;}#sk-container-id-5 div.sk-container {/* jupyter's `normalize.less` sets `[hidden] { display: none; }` but bootstrap.min.css set `[hidden] { display: none !important; }` so we also need the `!important` here to be able to override the default hidden behavior on the sphinx rendered scikit-learn.org. See: https://github.com/scikit-learn/scikit-learn/issues/21755 */display: inline-block !important;position: relative;}#sk-container-id-5 div.sk-text-repr-fallback {display: none;}</style><div id=\"sk-container-id-5\" class=\"sk-top-container\"><div class=\"sk-text-repr-fallback\"><pre>StackingCVClassifier(classifiers=[Log_Reg(bs=10, epochs=10, lr=1),\n",
       "                                  NuSVC(gamma=&#x27;auto&#x27;, kernel=&#x27;linear&#x27;, nu=0.6)],\n",
       "                     cv=5, meta_classifier=SVC(C=1, gamma=1, kernel=&#x27;linear&#x27;),\n",
       "                     shuffle=False)</pre><b>In a Jupyter environment, please rerun this cell to show the HTML representation or trust the notebook. <br />On GitHub, the HTML representation is unable to render, please try loading this page with nbviewer.org.</b></div><div class=\"sk-container\" hidden><div class=\"sk-item sk-dashed-wrapped\"><div class=\"sk-label-container\"><div class=\"sk-label sk-toggleable\"><input class=\"sk-toggleable__control sk-hidden--visually\" id=\"sk-estimator-id-13\" type=\"checkbox\" ><label for=\"sk-estimator-id-13\" class=\"sk-toggleable__label sk-toggleable__label-arrow\">StackingCVClassifier</label><div class=\"sk-toggleable__content\"><pre>StackingCVClassifier(classifiers=[Log_Reg(bs=10, epochs=10, lr=1),\n",
       "                                  NuSVC(gamma=&#x27;auto&#x27;, kernel=&#x27;linear&#x27;, nu=0.6)],\n",
       "                     cv=5, meta_classifier=SVC(C=1, gamma=1, kernel=&#x27;linear&#x27;),\n",
       "                     shuffle=False)</pre></div></div></div><div class=\"sk-parallel\"><div class=\"sk-parallel-item\"><div class=\"sk-item\"><div class=\"sk-label-container\"><div class=\"sk-label sk-toggleable\"><input class=\"sk-toggleable__control sk-hidden--visually\" id=\"sk-estimator-id-14\" type=\"checkbox\" ><label for=\"sk-estimator-id-14\" class=\"sk-toggleable__label sk-toggleable__label-arrow\">meta_classifier: SVC</label><div class=\"sk-toggleable__content\"><pre>SVC(C=1, gamma=1, kernel=&#x27;linear&#x27;)</pre></div></div></div><div class=\"sk-serial\"><div class=\"sk-item\"><div class=\"sk-estimator sk-toggleable\"><input class=\"sk-toggleable__control sk-hidden--visually\" id=\"sk-estimator-id-15\" type=\"checkbox\" ><label for=\"sk-estimator-id-15\" class=\"sk-toggleable__label sk-toggleable__label-arrow\">SVC</label><div class=\"sk-toggleable__content\"><pre>SVC(C=1, gamma=1, kernel=&#x27;linear&#x27;)</pre></div></div></div></div></div></div></div></div></div></div>"
      ],
      "text/plain": [
       "StackingCVClassifier(classifiers=[Log_Reg(bs=10, epochs=10, lr=1),\n",
       "                                  NuSVC(gamma='auto', kernel='linear', nu=0.6)],\n",
       "                     cv=5, meta_classifier=SVC(C=1, gamma=1, kernel='linear'),\n",
       "                     shuffle=False)"
      ]
     },
     "execution_count": 28,
     "metadata": {},
     "output_type": "execute_result"
    }
   ],
   "source": [
    "sclf.fit(X.iloc[:,0:4200],y)\n",
    "# sclf.fit(X_train_o, y_train_o)"
   ]
  },
  {
   "cell_type": "code",
   "execution_count": 39,
   "metadata": {},
   "outputs": [
    {
     "data": {
      "text/html": [
       "<style>#sk-container-id-7 {color: black;background-color: white;}#sk-container-id-7 pre{padding: 0;}#sk-container-id-7 div.sk-toggleable {background-color: white;}#sk-container-id-7 label.sk-toggleable__label {cursor: pointer;display: block;width: 100%;margin-bottom: 0;padding: 0.3em;box-sizing: border-box;text-align: center;}#sk-container-id-7 label.sk-toggleable__label-arrow:before {content: \"▸\";float: left;margin-right: 0.25em;color: #696969;}#sk-container-id-7 label.sk-toggleable__label-arrow:hover:before {color: black;}#sk-container-id-7 div.sk-estimator:hover label.sk-toggleable__label-arrow:before {color: black;}#sk-container-id-7 div.sk-toggleable__content {max-height: 0;max-width: 0;overflow: hidden;text-align: left;background-color: #f0f8ff;}#sk-container-id-7 div.sk-toggleable__content pre {margin: 0.2em;color: black;border-radius: 0.25em;background-color: #f0f8ff;}#sk-container-id-7 input.sk-toggleable__control:checked~div.sk-toggleable__content {max-height: 200px;max-width: 100%;overflow: auto;}#sk-container-id-7 input.sk-toggleable__control:checked~label.sk-toggleable__label-arrow:before {content: \"▾\";}#sk-container-id-7 div.sk-estimator input.sk-toggleable__control:checked~label.sk-toggleable__label {background-color: #d4ebff;}#sk-container-id-7 div.sk-label input.sk-toggleable__control:checked~label.sk-toggleable__label {background-color: #d4ebff;}#sk-container-id-7 input.sk-hidden--visually {border: 0;clip: rect(1px 1px 1px 1px);clip: rect(1px, 1px, 1px, 1px);height: 1px;margin: -1px;overflow: hidden;padding: 0;position: absolute;width: 1px;}#sk-container-id-7 div.sk-estimator {font-family: monospace;background-color: #f0f8ff;border: 1px dotted black;border-radius: 0.25em;box-sizing: border-box;margin-bottom: 0.5em;}#sk-container-id-7 div.sk-estimator:hover {background-color: #d4ebff;}#sk-container-id-7 div.sk-parallel-item::after {content: \"\";width: 100%;border-bottom: 1px solid gray;flex-grow: 1;}#sk-container-id-7 div.sk-label:hover label.sk-toggleable__label {background-color: #d4ebff;}#sk-container-id-7 div.sk-serial::before {content: \"\";position: absolute;border-left: 1px solid gray;box-sizing: border-box;top: 0;bottom: 0;left: 50%;z-index: 0;}#sk-container-id-7 div.sk-serial {display: flex;flex-direction: column;align-items: center;background-color: white;padding-right: 0.2em;padding-left: 0.2em;position: relative;}#sk-container-id-7 div.sk-item {position: relative;z-index: 1;}#sk-container-id-7 div.sk-parallel {display: flex;align-items: stretch;justify-content: center;background-color: white;position: relative;}#sk-container-id-7 div.sk-item::before, #sk-container-id-7 div.sk-parallel-item::before {content: \"\";position: absolute;border-left: 1px solid gray;box-sizing: border-box;top: 0;bottom: 0;left: 50%;z-index: -1;}#sk-container-id-7 div.sk-parallel-item {display: flex;flex-direction: column;z-index: 1;position: relative;background-color: white;}#sk-container-id-7 div.sk-parallel-item:first-child::after {align-self: flex-end;width: 50%;}#sk-container-id-7 div.sk-parallel-item:last-child::after {align-self: flex-start;width: 50%;}#sk-container-id-7 div.sk-parallel-item:only-child::after {width: 0;}#sk-container-id-7 div.sk-dashed-wrapped {border: 1px dashed gray;margin: 0 0.4em 0.5em 0.4em;box-sizing: border-box;padding-bottom: 0.4em;background-color: white;}#sk-container-id-7 div.sk-label label {font-family: monospace;font-weight: bold;display: inline-block;line-height: 1.2em;}#sk-container-id-7 div.sk-label-container {text-align: center;}#sk-container-id-7 div.sk-container {/* jupyter's `normalize.less` sets `[hidden] { display: none; }` but bootstrap.min.css set `[hidden] { display: none !important; }` so we also need the `!important` here to be able to override the default hidden behavior on the sphinx rendered scikit-learn.org. See: https://github.com/scikit-learn/scikit-learn/issues/21755 */display: inline-block !important;position: relative;}#sk-container-id-7 div.sk-text-repr-fallback {display: none;}</style><div id=\"sk-container-id-7\" class=\"sk-top-container\"><div class=\"sk-text-repr-fallback\"><pre>StackingCVClassifier(classifiers=[Log_Reg(bs=10, epochs=500),\n",
       "                                  NuSVC(gamma=&#x27;auto&#x27;, kernel=&#x27;linear&#x27;, nu=0.6)],\n",
       "                     cv=5, meta_classifier=SVC(C=1, gamma=1, kernel=&#x27;linear&#x27;),\n",
       "                     shuffle=False)</pre><b>In a Jupyter environment, please rerun this cell to show the HTML representation or trust the notebook. <br />On GitHub, the HTML representation is unable to render, please try loading this page with nbviewer.org.</b></div><div class=\"sk-container\" hidden><div class=\"sk-item sk-dashed-wrapped\"><div class=\"sk-label-container\"><div class=\"sk-label sk-toggleable\"><input class=\"sk-toggleable__control sk-hidden--visually\" id=\"sk-estimator-id-19\" type=\"checkbox\" ><label for=\"sk-estimator-id-19\" class=\"sk-toggleable__label sk-toggleable__label-arrow\">StackingCVClassifier</label><div class=\"sk-toggleable__content\"><pre>StackingCVClassifier(classifiers=[Log_Reg(bs=10, epochs=500),\n",
       "                                  NuSVC(gamma=&#x27;auto&#x27;, kernel=&#x27;linear&#x27;, nu=0.6)],\n",
       "                     cv=5, meta_classifier=SVC(C=1, gamma=1, kernel=&#x27;linear&#x27;),\n",
       "                     shuffle=False)</pre></div></div></div><div class=\"sk-parallel\"><div class=\"sk-parallel-item\"><div class=\"sk-item\"><div class=\"sk-label-container\"><div class=\"sk-label sk-toggleable\"><input class=\"sk-toggleable__control sk-hidden--visually\" id=\"sk-estimator-id-20\" type=\"checkbox\" ><label for=\"sk-estimator-id-20\" class=\"sk-toggleable__label sk-toggleable__label-arrow\">meta_classifier: SVC</label><div class=\"sk-toggleable__content\"><pre>SVC(C=1, gamma=1, kernel=&#x27;linear&#x27;)</pre></div></div></div><div class=\"sk-serial\"><div class=\"sk-item\"><div class=\"sk-estimator sk-toggleable\"><input class=\"sk-toggleable__control sk-hidden--visually\" id=\"sk-estimator-id-21\" type=\"checkbox\" ><label for=\"sk-estimator-id-21\" class=\"sk-toggleable__label sk-toggleable__label-arrow\">SVC</label><div class=\"sk-toggleable__content\"><pre>SVC(C=1, gamma=1, kernel=&#x27;linear&#x27;)</pre></div></div></div></div></div></div></div></div></div></div>"
      ],
      "text/plain": [
       "StackingCVClassifier(classifiers=[Log_Reg(bs=10, epochs=500),\n",
       "                                  NuSVC(gamma='auto', kernel='linear', nu=0.6)],\n",
       "                     cv=5, meta_classifier=SVC(C=1, gamma=1, kernel='linear'),\n",
       "                     shuffle=False)"
      ]
     },
     "execution_count": 39,
     "metadata": {},
     "output_type": "execute_result"
    }
   ],
   "source": [
    "sclf_rf100_lr500 = StackingCVClassifier(classifiers = [classifier5, classifier3],\n",
    "                            shuffle = False,\n",
    "                            cv = 5,\n",
    "                            meta_classifier = classifier1)\n",
    "sclf_rf100_lr500.fit(X.iloc[:,0:4200],y)"
   ]
  },
  {
   "cell_type": "code",
   "execution_count": 43,
   "metadata": {},
   "outputs": [],
   "source": [
    "y_predict_rf100_lr500 = sclf_rf100_lr500.predict(X_test)"
   ]
  },
  {
   "cell_type": "code",
   "execution_count": 44,
   "metadata": {},
   "outputs": [],
   "source": [
    "#export convert numpy to dataframe\n",
    "df = pd.DataFrame(y_predict_rf100_lr500, columns=['label'])\n",
    "output = pd.concat([data_test['id'], df], axis=1)\n",
    "#export df to csv\n",
    "output.to_csv('sclf_4200_meta-svc_base-lr500-nu.csv', index=False)"
   ]
  },
  {
   "cell_type": "code",
   "execution_count": 29,
   "metadata": {},
   "outputs": [],
   "source": [
    "y_pred = sclf.predict(X_test.iloc[:,0:4200])"
   ]
  },
  {
   "cell_type": "code",
   "execution_count": null,
   "metadata": {},
   "outputs": [],
   "source": [
    "#export convert numpy to dataframe\n",
    "df = pd.DataFrame(y_pred, columns=['label'])\n",
    "output = pd.concat([data_test['id'], df], axis=1)\n",
    "#export df to csv\n",
    "output.to_csv('sclf_4200_meta-svc_base-lr-nu.csv', index=False)"
   ]
  },
  {
   "cell_type": "code",
   "execution_count": 32,
   "metadata": {},
   "outputs": [],
   "source": [
    "\n",
    "sclf_1 = StackingCVClassifier(classifiers = [classifier5, classifier3],\n",
    "                            shuffle = False,\n",
    "                            cv = 5,\n",
    "                            meta_classifier = classifier1)"
   ]
  },
  {
   "cell_type": "code",
   "execution_count": 34,
   "metadata": {},
   "outputs": [
    {
     "data": {
      "text/html": [
       "<style>#sk-container-id-6 {color: black;background-color: white;}#sk-container-id-6 pre{padding: 0;}#sk-container-id-6 div.sk-toggleable {background-color: white;}#sk-container-id-6 label.sk-toggleable__label {cursor: pointer;display: block;width: 100%;margin-bottom: 0;padding: 0.3em;box-sizing: border-box;text-align: center;}#sk-container-id-6 label.sk-toggleable__label-arrow:before {content: \"▸\";float: left;margin-right: 0.25em;color: #696969;}#sk-container-id-6 label.sk-toggleable__label-arrow:hover:before {color: black;}#sk-container-id-6 div.sk-estimator:hover label.sk-toggleable__label-arrow:before {color: black;}#sk-container-id-6 div.sk-toggleable__content {max-height: 0;max-width: 0;overflow: hidden;text-align: left;background-color: #f0f8ff;}#sk-container-id-6 div.sk-toggleable__content pre {margin: 0.2em;color: black;border-radius: 0.25em;background-color: #f0f8ff;}#sk-container-id-6 input.sk-toggleable__control:checked~div.sk-toggleable__content {max-height: 200px;max-width: 100%;overflow: auto;}#sk-container-id-6 input.sk-toggleable__control:checked~label.sk-toggleable__label-arrow:before {content: \"▾\";}#sk-container-id-6 div.sk-estimator input.sk-toggleable__control:checked~label.sk-toggleable__label {background-color: #d4ebff;}#sk-container-id-6 div.sk-label input.sk-toggleable__control:checked~label.sk-toggleable__label {background-color: #d4ebff;}#sk-container-id-6 input.sk-hidden--visually {border: 0;clip: rect(1px 1px 1px 1px);clip: rect(1px, 1px, 1px, 1px);height: 1px;margin: -1px;overflow: hidden;padding: 0;position: absolute;width: 1px;}#sk-container-id-6 div.sk-estimator {font-family: monospace;background-color: #f0f8ff;border: 1px dotted black;border-radius: 0.25em;box-sizing: border-box;margin-bottom: 0.5em;}#sk-container-id-6 div.sk-estimator:hover {background-color: #d4ebff;}#sk-container-id-6 div.sk-parallel-item::after {content: \"\";width: 100%;border-bottom: 1px solid gray;flex-grow: 1;}#sk-container-id-6 div.sk-label:hover label.sk-toggleable__label {background-color: #d4ebff;}#sk-container-id-6 div.sk-serial::before {content: \"\";position: absolute;border-left: 1px solid gray;box-sizing: border-box;top: 0;bottom: 0;left: 50%;z-index: 0;}#sk-container-id-6 div.sk-serial {display: flex;flex-direction: column;align-items: center;background-color: white;padding-right: 0.2em;padding-left: 0.2em;position: relative;}#sk-container-id-6 div.sk-item {position: relative;z-index: 1;}#sk-container-id-6 div.sk-parallel {display: flex;align-items: stretch;justify-content: center;background-color: white;position: relative;}#sk-container-id-6 div.sk-item::before, #sk-container-id-6 div.sk-parallel-item::before {content: \"\";position: absolute;border-left: 1px solid gray;box-sizing: border-box;top: 0;bottom: 0;left: 50%;z-index: -1;}#sk-container-id-6 div.sk-parallel-item {display: flex;flex-direction: column;z-index: 1;position: relative;background-color: white;}#sk-container-id-6 div.sk-parallel-item:first-child::after {align-self: flex-end;width: 50%;}#sk-container-id-6 div.sk-parallel-item:last-child::after {align-self: flex-start;width: 50%;}#sk-container-id-6 div.sk-parallel-item:only-child::after {width: 0;}#sk-container-id-6 div.sk-dashed-wrapped {border: 1px dashed gray;margin: 0 0.4em 0.5em 0.4em;box-sizing: border-box;padding-bottom: 0.4em;background-color: white;}#sk-container-id-6 div.sk-label label {font-family: monospace;font-weight: bold;display: inline-block;line-height: 1.2em;}#sk-container-id-6 div.sk-label-container {text-align: center;}#sk-container-id-6 div.sk-container {/* jupyter's `normalize.less` sets `[hidden] { display: none; }` but bootstrap.min.css set `[hidden] { display: none !important; }` so we also need the `!important` here to be able to override the default hidden behavior on the sphinx rendered scikit-learn.org. See: https://github.com/scikit-learn/scikit-learn/issues/21755 */display: inline-block !important;position: relative;}#sk-container-id-6 div.sk-text-repr-fallback {display: none;}</style><div id=\"sk-container-id-6\" class=\"sk-top-container\"><div class=\"sk-text-repr-fallback\"><pre>StackingCVClassifier(classifiers=[Log_Reg(bs=10, epochs=10, lr=1),\n",
       "                                  NuSVC(gamma=&#x27;auto&#x27;, kernel=&#x27;linear&#x27;, nu=0.6)],\n",
       "                     cv=5, meta_classifier=SVC(C=1, gamma=1, kernel=&#x27;linear&#x27;),\n",
       "                     shuffle=False)</pre><b>In a Jupyter environment, please rerun this cell to show the HTML representation or trust the notebook. <br />On GitHub, the HTML representation is unable to render, please try loading this page with nbviewer.org.</b></div><div class=\"sk-container\" hidden><div class=\"sk-item sk-dashed-wrapped\"><div class=\"sk-label-container\"><div class=\"sk-label sk-toggleable\"><input class=\"sk-toggleable__control sk-hidden--visually\" id=\"sk-estimator-id-16\" type=\"checkbox\" ><label for=\"sk-estimator-id-16\" class=\"sk-toggleable__label sk-toggleable__label-arrow\">StackingCVClassifier</label><div class=\"sk-toggleable__content\"><pre>StackingCVClassifier(classifiers=[Log_Reg(bs=10, epochs=10, lr=1),\n",
       "                                  NuSVC(gamma=&#x27;auto&#x27;, kernel=&#x27;linear&#x27;, nu=0.6)],\n",
       "                     cv=5, meta_classifier=SVC(C=1, gamma=1, kernel=&#x27;linear&#x27;),\n",
       "                     shuffle=False)</pre></div></div></div><div class=\"sk-parallel\"><div class=\"sk-parallel-item\"><div class=\"sk-item\"><div class=\"sk-label-container\"><div class=\"sk-label sk-toggleable\"><input class=\"sk-toggleable__control sk-hidden--visually\" id=\"sk-estimator-id-17\" type=\"checkbox\" ><label for=\"sk-estimator-id-17\" class=\"sk-toggleable__label sk-toggleable__label-arrow\">meta_classifier: SVC</label><div class=\"sk-toggleable__content\"><pre>SVC(C=1, gamma=1, kernel=&#x27;linear&#x27;)</pre></div></div></div><div class=\"sk-serial\"><div class=\"sk-item\"><div class=\"sk-estimator sk-toggleable\"><input class=\"sk-toggleable__control sk-hidden--visually\" id=\"sk-estimator-id-18\" type=\"checkbox\" ><label for=\"sk-estimator-id-18\" class=\"sk-toggleable__label sk-toggleable__label-arrow\">SVC</label><div class=\"sk-toggleable__content\"><pre>SVC(C=1, gamma=1, kernel=&#x27;linear&#x27;)</pre></div></div></div></div></div></div></div></div></div></div>"
      ],
      "text/plain": [
       "StackingCVClassifier(classifiers=[Log_Reg(bs=10, epochs=10, lr=1),\n",
       "                                  NuSVC(gamma='auto', kernel='linear', nu=0.6)],\n",
       "                     cv=5, meta_classifier=SVC(C=1, gamma=1, kernel='linear'),\n",
       "                     shuffle=False)"
      ]
     },
     "execution_count": 34,
     "metadata": {},
     "output_type": "execute_result"
    }
   ],
   "source": [
    "# sclf_1.fit(X_train.iloc[:,0:4200],y_train)\n",
    "# sclf_1.fit(X_train.iloc[:,0:4200],y_train)"
   ]
  },
  {
   "cell_type": "code",
   "execution_count": 35,
   "metadata": {},
   "outputs": [],
   "source": [
    "y_pred_1 = sclf_1.predict(X_test.iloc[:,0:4200])"
   ]
  },
  {
   "cell_type": "code",
   "execution_count": 36,
   "metadata": {},
   "outputs": [
    {
     "name": "stdout",
     "output_type": "stream",
     "text": [
      "Accuracy : 0.7340704102414897\n",
      "Precision : 0.6965944272445821\n",
      "Recall : 0.5212355212355212\n",
      "F1 score : 0.5962897526501766\n"
     ]
    }
   ],
   "source": [
    "from sklearn import metrics\n",
    "\n",
    "print(\"Accuracy :\", metrics.accuracy_score(y_test, y_pred_1))\n",
    "print(\"Precision :\", metrics.precision_score(y_test, y_pred_1))\n",
    "print(\"Recall :\", metrics.recall_score(y_test, y_pred_1))\n",
    "print(\"F1 score :\", metrics.f1_score(y_test, y_pred_1))"
   ]
  },
  {
   "cell_type": "code",
   "execution_count": 30,
   "metadata": {},
   "outputs": [],
   "source": [
    "#export convert numpy to dataframe\n",
    "df = pd.DataFrame(y_pred, columns=['label'])\n",
    "output = pd.concat([data_test['id'], df], axis=1)\n",
    "#export df to csv\n",
    "output.to_csv('sclf_4200_meta-svc_base-lr-nu.csv', index=False)"
   ]
  },
  {
   "cell_type": "code",
   "execution_count": null,
   "metadata": {},
   "outputs": [],
   "source": []
  },
  {
   "cell_type": "code",
   "execution_count": 13,
   "metadata": {},
   "outputs": [],
   "source": [
    "###############################################################################\n",
    "#                       7. Putting classifiers in a dictionary                #\n",
    "###############################################################################\n",
    "# Create list to store classifiers\n",
    "classifiers = {\"SVC\": classifier1,\n",
    "               \"MLP\": classifier2,\n",
    "               \"NuSVC\": classifier3,\n",
    "               \"RF\": classifier4,\n",
    "               \"Stack\": sclf}"
   ]
  },
  {
   "cell_type": "code",
   "execution_count": 11,
   "metadata": {},
   "outputs": [
    {
     "name": "stderr",
     "output_type": "stream",
     "text": [
      "c:\\Users\\Pin Nean\\AppData\\Local\\Programs\\Python\\Python39\\lib\\site-packages\\sklearn\\base.py:493: FutureWarning: The feature names should match those that were passed during fit. Starting version 1.2, an error will be raised.\n",
      "Feature names unseen at fit time:\n",
      "- pca_2501\n",
      "- pca_2502\n",
      "- pca_2503\n",
      "- pca_2504\n",
      "- pca_2505\n",
      "- ...\n",
      "\n",
      "  warnings.warn(message, FutureWarning)\n"
     ]
    },
    {
     "ename": "ValueError",
     "evalue": "X has 4200 features, but SVC is expecting 2500 features as input.",
     "output_type": "error",
     "traceback": [
      "\u001b[1;31m---------------------------------------------------------------------------\u001b[0m",
      "\u001b[1;31mValueError\u001b[0m                                Traceback (most recent call last)",
      "\u001b[1;32mc:\\Users\\Pin Nean\\Documents\\Github\\ml\\ml_project\\mltx.ipynb Cell 24\u001b[0m in \u001b[0;36m<cell line: 1>\u001b[1;34m()\u001b[0m\n\u001b[1;32m----> <a href='vscode-notebook-cell:/c%3A/Users/Pin%20Nean/Documents/Github/ml/ml_project/mltx.ipynb#ch0000028?line=0'>1</a>\u001b[0m y_pred_sclf \u001b[39m=\u001b[39m sclf\u001b[39m.\u001b[39;49mpredict(X_test)\n",
      "File \u001b[1;32mc:\\Users\\Pin Nean\\AppData\\Local\\Programs\\Python\\Python39\\lib\\site-packages\\mlxtend\\classifier\\_base_classification.py:38\u001b[0m, in \u001b[0;36m_BaseStackingClassifier.predict\u001b[1;34m(self, X)\u001b[0m\n\u001b[0;32m     22\u001b[0m \u001b[39m\"\"\"Predict target values for X.\u001b[39;00m\n\u001b[0;32m     23\u001b[0m \n\u001b[0;32m     24\u001b[0m \u001b[39mParameters\u001b[39;00m\n\u001b[1;32m   (...)\u001b[0m\n\u001b[0;32m     34\u001b[0m \n\u001b[0;32m     35\u001b[0m \u001b[39m\"\"\"\u001b[39;00m\n\u001b[0;32m     36\u001b[0m check_is_fitted(\u001b[39mself\u001b[39m, [\u001b[39m\"\u001b[39m\u001b[39mclfs_\u001b[39m\u001b[39m\"\u001b[39m, \u001b[39m\"\u001b[39m\u001b[39mmeta_clf_\u001b[39m\u001b[39m\"\u001b[39m])\n\u001b[1;32m---> 38\u001b[0m \u001b[39mreturn\u001b[39;00m \u001b[39mself\u001b[39;49m\u001b[39m.\u001b[39;49m_do_predict(X, \u001b[39mself\u001b[39;49m\u001b[39m.\u001b[39;49mmeta_clf_\u001b[39m.\u001b[39;49mpredict)\n",
      "File \u001b[1;32mc:\\Users\\Pin Nean\\AppData\\Local\\Programs\\Python\\Python39\\lib\\site-packages\\mlxtend\\classifier\\_base_classification.py:12\u001b[0m, in \u001b[0;36m_BaseStackingClassifier._do_predict\u001b[1;34m(self, X, predict_fn)\u001b[0m\n\u001b[0;32m     11\u001b[0m \u001b[39mdef\u001b[39;00m \u001b[39m_do_predict\u001b[39m(\u001b[39mself\u001b[39m, X, predict_fn):\n\u001b[1;32m---> 12\u001b[0m     meta_features \u001b[39m=\u001b[39m \u001b[39mself\u001b[39;49m\u001b[39m.\u001b[39;49mpredict_meta_features(X)\n\u001b[0;32m     14\u001b[0m     \u001b[39mif\u001b[39;00m \u001b[39mnot\u001b[39;00m \u001b[39mself\u001b[39m\u001b[39m.\u001b[39muse_features_in_secondary:\n\u001b[0;32m     15\u001b[0m         \u001b[39mreturn\u001b[39;00m predict_fn(meta_features)\n",
      "File \u001b[1;32mc:\\Users\\Pin Nean\\AppData\\Local\\Programs\\Python\\Python39\\lib\\site-packages\\mlxtend\\classifier\\stacking_cv_classification.py:351\u001b[0m, in \u001b[0;36mStackingCVClassifier.predict_meta_features\u001b[1;34m(self, X)\u001b[0m\n\u001b[0;32m    349\u001b[0m             prediction \u001b[39m=\u001b[39m model\u001b[39m.\u001b[39mpredict_proba(X)[:, \u001b[39m1\u001b[39m:]\n\u001b[0;32m    350\u001b[0m         \u001b[39melse\u001b[39;00m:\n\u001b[1;32m--> 351\u001b[0m             prediction \u001b[39m=\u001b[39m model\u001b[39m.\u001b[39;49mpredict_proba(X)\n\u001b[0;32m    353\u001b[0m     per_model_preds\u001b[39m.\u001b[39mappend(prediction)\n\u001b[0;32m    355\u001b[0m \u001b[39mreturn\u001b[39;00m np\u001b[39m.\u001b[39mhstack(per_model_preds)\n",
      "File \u001b[1;32mc:\\Users\\Pin Nean\\AppData\\Local\\Programs\\Python\\Python39\\lib\\site-packages\\sklearn\\svm\\_base.py:853\u001b[0m, in \u001b[0;36mBaseSVC.predict_proba\u001b[1;34m(self, X)\u001b[0m\n\u001b[0;32m    826\u001b[0m \u001b[39m@available_if\u001b[39m(_check_proba)\n\u001b[0;32m    827\u001b[0m \u001b[39mdef\u001b[39;00m \u001b[39mpredict_proba\u001b[39m(\u001b[39mself\u001b[39m, X):\n\u001b[0;32m    828\u001b[0m     \u001b[39m\"\"\"Compute probabilities of possible outcomes for samples in X.\u001b[39;00m\n\u001b[0;32m    829\u001b[0m \n\u001b[0;32m    830\u001b[0m \u001b[39m    The model need to have probability information computed at training\u001b[39;00m\n\u001b[1;32m   (...)\u001b[0m\n\u001b[0;32m    851\u001b[0m \u001b[39m    datasets.\u001b[39;00m\n\u001b[0;32m    852\u001b[0m \u001b[39m    \"\"\"\u001b[39;00m\n\u001b[1;32m--> 853\u001b[0m     X \u001b[39m=\u001b[39m \u001b[39mself\u001b[39;49m\u001b[39m.\u001b[39;49m_validate_for_predict(X)\n\u001b[0;32m    854\u001b[0m     \u001b[39mif\u001b[39;00m \u001b[39mself\u001b[39m\u001b[39m.\u001b[39mprobA_\u001b[39m.\u001b[39msize \u001b[39m==\u001b[39m \u001b[39m0\u001b[39m \u001b[39mor\u001b[39;00m \u001b[39mself\u001b[39m\u001b[39m.\u001b[39mprobB_\u001b[39m.\u001b[39msize \u001b[39m==\u001b[39m \u001b[39m0\u001b[39m:\n\u001b[0;32m    855\u001b[0m         \u001b[39mraise\u001b[39;00m NotFittedError(\n\u001b[0;32m    856\u001b[0m             \u001b[39m\"\u001b[39m\u001b[39mpredict_proba is not available when fitted with probability=False\u001b[39m\u001b[39m\"\u001b[39m\n\u001b[0;32m    857\u001b[0m         )\n",
      "File \u001b[1;32mc:\\Users\\Pin Nean\\AppData\\Local\\Programs\\Python\\Python39\\lib\\site-packages\\sklearn\\svm\\_base.py:611\u001b[0m, in \u001b[0;36mBaseLibSVM._validate_for_predict\u001b[1;34m(self, X)\u001b[0m\n\u001b[0;32m    608\u001b[0m check_is_fitted(\u001b[39mself\u001b[39m)\n\u001b[0;32m    610\u001b[0m \u001b[39mif\u001b[39;00m \u001b[39mnot\u001b[39;00m callable(\u001b[39mself\u001b[39m\u001b[39m.\u001b[39mkernel):\n\u001b[1;32m--> 611\u001b[0m     X \u001b[39m=\u001b[39m \u001b[39mself\u001b[39;49m\u001b[39m.\u001b[39;49m_validate_data(\n\u001b[0;32m    612\u001b[0m         X,\n\u001b[0;32m    613\u001b[0m         accept_sparse\u001b[39m=\u001b[39;49m\u001b[39m\"\u001b[39;49m\u001b[39mcsr\u001b[39;49m\u001b[39m\"\u001b[39;49m,\n\u001b[0;32m    614\u001b[0m         dtype\u001b[39m=\u001b[39;49mnp\u001b[39m.\u001b[39;49mfloat64,\n\u001b[0;32m    615\u001b[0m         order\u001b[39m=\u001b[39;49m\u001b[39m\"\u001b[39;49m\u001b[39mC\u001b[39;49m\u001b[39m\"\u001b[39;49m,\n\u001b[0;32m    616\u001b[0m         accept_large_sparse\u001b[39m=\u001b[39;49m\u001b[39mFalse\u001b[39;49;00m,\n\u001b[0;32m    617\u001b[0m         reset\u001b[39m=\u001b[39;49m\u001b[39mFalse\u001b[39;49;00m,\n\u001b[0;32m    618\u001b[0m     )\n\u001b[0;32m    620\u001b[0m \u001b[39mif\u001b[39;00m \u001b[39mself\u001b[39m\u001b[39m.\u001b[39m_sparse \u001b[39mand\u001b[39;00m \u001b[39mnot\u001b[39;00m sp\u001b[39m.\u001b[39misspmatrix(X):\n\u001b[0;32m    621\u001b[0m     X \u001b[39m=\u001b[39m sp\u001b[39m.\u001b[39mcsr_matrix(X)\n",
      "File \u001b[1;32mc:\\Users\\Pin Nean\\AppData\\Local\\Programs\\Python\\Python39\\lib\\site-packages\\sklearn\\base.py:600\u001b[0m, in \u001b[0;36mBaseEstimator._validate_data\u001b[1;34m(self, X, y, reset, validate_separately, **check_params)\u001b[0m\n\u001b[0;32m    597\u001b[0m     out \u001b[39m=\u001b[39m X, y\n\u001b[0;32m    599\u001b[0m \u001b[39mif\u001b[39;00m \u001b[39mnot\u001b[39;00m no_val_X \u001b[39mand\u001b[39;00m check_params\u001b[39m.\u001b[39mget(\u001b[39m\"\u001b[39m\u001b[39mensure_2d\u001b[39m\u001b[39m\"\u001b[39m, \u001b[39mTrue\u001b[39;00m):\n\u001b[1;32m--> 600\u001b[0m     \u001b[39mself\u001b[39;49m\u001b[39m.\u001b[39;49m_check_n_features(X, reset\u001b[39m=\u001b[39;49mreset)\n\u001b[0;32m    602\u001b[0m \u001b[39mreturn\u001b[39;00m out\n",
      "File \u001b[1;32mc:\\Users\\Pin Nean\\AppData\\Local\\Programs\\Python\\Python39\\lib\\site-packages\\sklearn\\base.py:400\u001b[0m, in \u001b[0;36mBaseEstimator._check_n_features\u001b[1;34m(self, X, reset)\u001b[0m\n\u001b[0;32m    397\u001b[0m     \u001b[39mreturn\u001b[39;00m\n\u001b[0;32m    399\u001b[0m \u001b[39mif\u001b[39;00m n_features \u001b[39m!=\u001b[39m \u001b[39mself\u001b[39m\u001b[39m.\u001b[39mn_features_in_:\n\u001b[1;32m--> 400\u001b[0m     \u001b[39mraise\u001b[39;00m \u001b[39mValueError\u001b[39;00m(\n\u001b[0;32m    401\u001b[0m         \u001b[39mf\u001b[39m\u001b[39m\"\u001b[39m\u001b[39mX has \u001b[39m\u001b[39m{\u001b[39;00mn_features\u001b[39m}\u001b[39;00m\u001b[39m features, but \u001b[39m\u001b[39m{\u001b[39;00m\u001b[39mself\u001b[39m\u001b[39m.\u001b[39m\u001b[39m__class__\u001b[39m\u001b[39m.\u001b[39m\u001b[39m__name__\u001b[39m\u001b[39m}\u001b[39;00m\u001b[39m \u001b[39m\u001b[39m\"\u001b[39m\n\u001b[0;32m    402\u001b[0m         \u001b[39mf\u001b[39m\u001b[39m\"\u001b[39m\u001b[39mis expecting \u001b[39m\u001b[39m{\u001b[39;00m\u001b[39mself\u001b[39m\u001b[39m.\u001b[39mn_features_in_\u001b[39m}\u001b[39;00m\u001b[39m features as input.\u001b[39m\u001b[39m\"\u001b[39m\n\u001b[0;32m    403\u001b[0m     )\n",
      "\u001b[1;31mValueError\u001b[0m: X has 4200 features, but SVC is expecting 2500 features as input."
     ]
    }
   ],
   "source": [
    "y_pred_sclf = sclf.predict(X_test)"
   ]
  },
  {
   "cell_type": "code",
   "execution_count": null,
   "metadata": {},
   "outputs": [
    {
     "data": {
      "text/plain": [
       "array([0, 0, 1, ..., 0, 0, 0])"
      ]
     },
     "execution_count": 49,
     "metadata": {},
     "output_type": "execute_result"
    }
   ],
   "source": [
    "y_pred_sclf"
   ]
  },
  {
   "cell_type": "code",
   "execution_count": null,
   "metadata": {},
   "outputs": [],
   "source": [
    "#export convert numpy to dataframe\n",
    "df = pd.DataFrame(y_pred_sclf, columns=['label'])\n",
    "output = pd.concat([data_test['id'], df], axis=1)\n",
    "#export df to csv\n",
    "output.to_csv('sclf_2500.csv', index=False)"
   ]
  },
  {
   "cell_type": "code",
   "execution_count": 14,
   "metadata": {},
   "outputs": [
    {
     "name": "stderr",
     "output_type": "stream",
     "text": [
      "c:\\Users\\Pin Nean\\AppData\\Local\\Programs\\Python\\Python39\\lib\\site-packages\\sklearn\\ensemble\\_forest.py:427: FutureWarning: `max_features='auto'` has been deprecated in 1.1 and will be removed in 1.3. To keep the past behaviour, explicitly set `max_features='sqrt'` or remove this parameter as it is also the default value for RandomForestClassifiers and ExtraTreesClassifiers.\n",
      "  warn(\n"
     ]
    }
   ],
   "source": [
    "###############################################################################\n",
    "#                               8. Train classifiers                          #\n",
    "###############################################################################\n",
    "# Train classifiers\n",
    "for key in classifiers:\n",
    "    # Get classifier\n",
    "    classifier = classifiers[key]\n",
    "    \n",
    "    # Fit classifier\n",
    "    classifier.fit(X_train, y_train)\n",
    "        \n",
    "    # Save fitted classifier\n",
    "    classifiers[key] = classifier"
   ]
  },
  {
   "cell_type": "code",
   "execution_count": 105,
   "metadata": {},
   "outputs": [],
   "source": [
    "###############################################################################\n",
    "#                              9. Making predictions                          #\n",
    "###############################################################################\n",
    "# Get results\n",
    "results = pd.DataFrame()\n",
    "for key in classifiers:\n",
    "    # Make prediction on test set\n",
    "    y_pred = classifiers[key].predict_proba(X_test)[:,1]\n",
    "    \n",
    "    # Save results in pandas dataframe object\n",
    "    results[f\"{key}\"] = y_pred\n",
    "\n",
    "# Add the test set to the results object\n",
    "results[\"Target\"] = y_test"
   ]
  },
  {
   "cell_type": "code",
   "execution_count": 106,
   "metadata": {},
   "outputs": [
    {
     "name": "stderr",
     "output_type": "stream",
     "text": [
      "c:\\Users\\Pin Nean\\AppData\\Local\\Programs\\Python\\Python39\\lib\\site-packages\\seaborn\\distributions.py:2619: FutureWarning: `distplot` is a deprecated function and will be removed in a future version. Please adapt your code to use either `displot` (a figure-level function with similar flexibility) or `histplot` (an axes-level function for histograms).\n",
      "  warnings.warn(msg, FutureWarning)\n"
     ]
    },
    {
     "data": {
      "image/png": "[encoded data removed]",
      "text/plain": [
       "<Figure size 936x288 with 5 Axes>"
      ]
     },
     "metadata": {
      "needs_background": "light"
     },
     "output_type": "display_data"
    }
   ],
   "source": [
    "###############################################################################\n",
    "#                              10. Visualzing results                         #\n",
    "###############################################################################\n",
    "# Probability Distributions Figure\n",
    "# Set graph style\n",
    "sns.set(font_scale = 1)\n",
    "sns.set_style({\"axes.facecolor\": \"1.0\", \"axes.edgecolor\": \"0.85\", \"grid.color\": \"0.85\",\n",
    "               \"grid.linestyle\": \"-\", 'axes.labelcolor': '0.4', \"xtick.color\": \"0.4\",\n",
    "               'ytick.color': '0.4'})\n",
    "\n",
    "# Plot\n",
    "f, ax = plt.subplots(figsize=(13, 4), nrows=1, ncols = 5)\n",
    "\n",
    "for key, counter in zip(classifiers, range(5)):\n",
    "    # Get predictions\n",
    "    y_pred = results[key]\n",
    "    \n",
    "    # Get AUC\n",
    "    auc = metrics.roc_auc_score(y_test, y_pred)\n",
    "    textstr = f\"AUC: {auc:.3f}\"\n",
    "\n",
    "    # Plot false distribution\n",
    "    false_pred = results[results[\"Target\"] == 0]\n",
    "    sns.distplot(false_pred[key], hist=True, kde=False, \n",
    "                 bins=int(25), color = 'red',\n",
    "                 hist_kws={'edgecolor':'black'}, ax = ax[counter])\n",
    "    \n",
    "    # Plot true distribution\n",
    "    true_pred = results[results[\"Target\"] == 1]\n",
    "    sns.distplot(results[key], hist=True, kde=False, \n",
    "                 bins=int(25), color = 'green',\n",
    "                 hist_kws={'edgecolor':'black'}, ax = ax[counter])\n",
    "    \n",
    "    \n",
    "    # These are matplotlib.patch.Patch properties\n",
    "    props = dict(boxstyle='round', facecolor='white', alpha=0.5)\n",
    "    \n",
    "    # Place a text box in upper left in axes coords\n",
    "    ax[counter].text(0.05, 0.95, textstr, transform=ax[counter].transAxes, fontsize=14,\n",
    "                    verticalalignment = \"top\", bbox=props)\n",
    "    \n",
    "    # Set axis limits and labels\n",
    "    ax[counter].set_title(f\"{key} Distribution\")\n",
    "    ax[counter].set_xlim(0,1)\n",
    "    ax[counter].set_xlabel(\"Probability\")\n",
    "\n",
    "# Tight layout\n",
    "plt.tight_layout()\n",
    "\n",
    "# Save Figure\n",
    "plt.savefig(\"Probability Distribution for each Classifier.png\", dpi = 1080)"
   ]
  }
 ],
 "metadata": {
  "kernelspec": {
   "display_name": "Python 3.9.13 64-bit",
   "language": "python",
   "name": "python3"
  },
  "language_info": {
   "codemirror_mode": {
    "name": "ipython",
    "version": 3
   },
   "file_extension": ".py",
   "mimetype": "text/x-python",
   "name": "python",
   "nbconvert_exporter": "python",
   "pygments_lexer": "ipython3",
   "version": "3.9.13"
  },
  "orig_nbformat": 4,
  "vscode": {
   "interpreter": {
    "hash": "626e0ee87f753e5a94e4918b06b0df5198147ddbbedd85f3f498c13fcf09ca14"
   }
  }
 },
 "nbformat": 4,
 "nbformat_minor": 2
}
